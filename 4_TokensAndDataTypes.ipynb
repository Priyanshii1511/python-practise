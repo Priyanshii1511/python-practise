{
 "cells": [
  {
   "attachments": {},
   "cell_type": "markdown",
   "metadata": {},
   "source": [
    "The token is the smallest unit inside the given program.\n",
    "There are following tokens in Python: Keywords, Identifiers, Literals, Operators."
   ]
  },
  {
   "cell_type": "markdown",
   "metadata": {},
   "source": [
    "Python is dymanic so we don't need to specify the data type while declaring."
   ]
  },
  {
   "cell_type": "code",
   "execution_count": 2,
   "metadata": {},
   "outputs": [
    {
     "name": "stdout",
     "output_type": "stream",
     "text": [
      "<class 'str'> <class 'float'> <class 'int'>\n"
     ]
    }
   ],
   "source": [
    "#type function returns the data type \n",
    "a='ps' \n",
    "b=1.0\n",
    "c=3\n",
    "print(type(a), type(b), type(c)) "
   ]
  },
  {
   "cell_type": "markdown",
   "metadata": {},
   "source": [
    "The main data types are 1. Numbers(integer, float and complex), 2. Sequence Type(List, Tuple and String), 3. Boolean, 4. Set, 5. Dictionary"
   ]
  },
  {
   "cell_type": "code",
   "execution_count": 5,
   "metadata": {},
   "outputs": [
    {
     "name": "stdout",
     "output_type": "stream",
     "text": [
      "True\n",
      "False\n"
     ]
    }
   ],
   "source": [
    "a=10\n",
    "print(isinstance(a, int)) #checks if an object belongs to a particular class\n",
    "print(isinstance(a, str))"
   ]
  },
  {
   "cell_type": "code",
   "execution_count": 7,
   "metadata": {},
   "outputs": [
    {
     "name": "stdout",
     "output_type": "stream",
     "text": [
      "<class 'complex'>\n"
     ]
    }
   ],
   "source": [
    "#Numbers\n",
    "a=100 #there is no restriction on the length of an integer\n",
    "b=15.02 #accurate upto 15 decimal points\n",
    "c=5+2j #5 is real and 2 is imaginary part\n",
    "d=1+0j\n",
    "print(type(d))"
   ]
  },
  {
   "cell_type": "markdown",
   "metadata": {},
   "source": [
    "In Python, we can use single, double, or triple quotes to define a string."
   ]
  },
  {
   "cell_type": "code",
   "execution_count": 14,
   "metadata": {},
   "outputs": [
    {
     "name": "stdout",
     "output_type": "stream",
     "text": [
      "hello ji\n",
      "hellohello\n",
      "hahahaha\n"
     ]
    }
   ],
   "source": [
    "#String\n",
    "p=\"hello\"\n",
    "q=\" ji\"\n",
    "print(p+q) #operator + concatenates two strings\n",
    "print(p*2) #operator * is known as a repetition operator\n",
    "print(\"haha\"*2)"
   ]
  },
  {
   "cell_type": "code",
   "execution_count": 16,
   "metadata": {},
   "outputs": [
    {
     "name": "stdout",
     "output_type": "stream",
     "text": [
      "A multiline \n",
      "string\n"
     ]
    }
   ],
   "source": [
    "s = '''A multiline \n",
    "string'''  \n",
    "print(s)  "
   ]
  },
  {
   "cell_type": "code",
   "execution_count": 25,
   "metadata": {},
   "outputs": [
    {
     "name": "stdout",
     "output_type": "stream",
     "text": [
      "pr\n",
      "piasi\n",
      "priyanshipriyanshipriyanshi\n",
      "priyanshipriyanshi\n"
     ]
    }
   ],
   "source": [
    "#string handling\n",
    "str1=\"priyanshi\"\n",
    "print(str1[0:2]) #prints from index 0 to 1\n",
    "print(str1[0:9:2]) #slice operator=[start, end, step]\n",
    "print(str1+str1+str1)\n",
    "print(str1*2)"
   ]
  },
  {
   "cell_type": "markdown",
   "metadata": {},
   "source": [
    "Python Lists are similar to arrays in C but the list can contain data of different types. All accessing operators work same as in string."
   ]
  },
  {
   "cell_type": "code",
   "execution_count": 31,
   "metadata": {},
   "outputs": [
    {
     "name": "stdout",
     "output_type": "stream",
     "text": [
      "[1, 'two', 3.0, (4+0j)]\n",
      "<class 'list'>\n",
      "[1, 'two', 3.0, (4+0j), 1, 'two', 3.0, (4+0j)]\n",
      "[1, 'two', 3.0, (4+0j), 1, 'two', 3.0, (4+0j), 1, 'two', 3.0, (4+0j)]\n",
      "['two', (4+0j)]\n",
      "[1, 'two', 4.0, (4+0j)]\n"
     ]
    }
   ],
   "source": [
    "#List\n",
    "list1=[1, 'two', 3.0, 4+0j]\n",
    "print(list1)\n",
    "print(type(list1))\n",
    "print(list1+list1)\n",
    "print(list1*3)\n",
    "print(list1[1:4:2])\n",
    "list1[2]=4.0 #modify item of list\n",
    "print(list1)"
   ]
  },
  {
   "cell_type": "markdown",
   "metadata": {},
   "source": [
    "Tuple is similar to list but is a read-only data structure as we can't modify the size and value of the items of a tuple."
   ]
  },
  {
   "cell_type": "code",
   "execution_count": 33,
   "metadata": {},
   "outputs": [
    {
     "name": "stdout",
     "output_type": "stream",
     "text": [
      "(1, 'huehue', 6.9)\n",
      "<class 'tuple'>\n",
      "(1, 'huehue', 6.9, 1, 'huehue', 6.9)\n",
      "(1, 'huehue', 6.9, 1, 'huehue', 6.9)\n",
      "('huehue',)\n"
     ]
    }
   ],
   "source": [
    "#Tuple\n",
    "tup=(1, 'huehue', 6.9)\n",
    "print(tup)\n",
    "print(type(tup))\n",
    "print(tup+tup)\n",
    "print(tup*2)\n",
    "print(tup[1:2])"
   ]
  },
  {
   "cell_type": "markdown",
   "metadata": {},
   "source": [
    "Dictionary is set of a key-value pair of items."
   ]
  },
  {
   "cell_type": "code",
   "execution_count": 40,
   "metadata": {},
   "outputs": [
    {
     "name": "stdout",
     "output_type": "stream",
     "text": [
      "1st name is: p\n",
      "dict_keys([4, 2])\n",
      "dict_values(['p', 'r'])\n"
     ]
    }
   ],
   "source": [
    "#Dictionary\n",
    "dict1={4:'p', 2:'r'}\n",
    "print(\"1st name is: \"+dict1[4])\n",
    "print(dict1.keys()) \n",
    "print(dict1.values())"
   ]
  },
  {
   "cell_type": "code",
   "execution_count": 49,
   "metadata": {},
   "outputs": [
    {
     "name": "stdout",
     "output_type": "stream",
     "text": [
      "<class 'bool'>\n"
     ]
    }
   ],
   "source": [
    "#Boolean\n",
    "print(type(True))"
   ]
  },
  {
   "cell_type": "markdown",
   "metadata": {},
   "source": [
    "Set is an unordered collection. It is iterable, mutable(can modify after creation), and has unique elements."
   ]
  },
  {
   "cell_type": "code",
   "execution_count": 53,
   "metadata": {},
   "outputs": [
    {
     "name": "stdout",
     "output_type": "stream",
     "text": [
      "{1, '2'}\n",
      "{4}\n",
      "{1}\n"
     ]
    }
   ],
   "source": [
    "set1=set() #to create empty set\n",
    "set2={1, '2'}\n",
    "print(set2)\n",
    "set1.add(4) #adding element to set\n",
    "print(set1)\n",
    "set2.remove('2') #deleting element from set\n",
    "print(set2)"
   ]
  }
 ],
 "metadata": {
  "kernelspec": {
   "display_name": "Python 3",
   "language": "python",
   "name": "python3"
  },
  "language_info": {
   "codemirror_mode": {
    "name": "ipython",
    "version": 3
   },
   "file_extension": ".py",
   "mimetype": "text/x-python",
   "name": "python",
   "nbconvert_exporter": "python",
   "pygments_lexer": "ipython3",
   "version": "3.11.1"
  },
  "orig_nbformat": 4
 },
 "nbformat": 4,
 "nbformat_minor": 2
}
