{
 "cells": [
  {
   "attachments": {},
   "cell_type": "markdown",
   "metadata": {},
   "source": [
    "Print statement has new line character by default."
   ]
  },
  {
   "cell_type": "code",
   "execution_count": 4,
   "metadata": {},
   "outputs": [
    {
     "name": "stdout",
     "output_type": "stream",
     "text": [
      "hello\n",
      "world\n"
     ]
    }
   ],
   "source": [
    "print(\"hello\")\n",
    "print(\"world\")"
   ]
  },
  {
   "cell_type": "code",
   "execution_count": 2,
   "metadata": {},
   "outputs": [
    {
     "name": "stdout",
     "output_type": "stream",
     "text": [
      "7\n"
     ]
    }
   ],
   "source": [
    "#if else conditional statements\n",
    "x=5\n",
    "y=7\n",
    "if x>y:\n",
    "    print(x)\n",
    "else:\n",
    "    print(y)"
   ]
  },
  {
   "cell_type": "code",
   "execution_count": 3,
   "metadata": {},
   "outputs": [
    {
     "name": "stdout",
     "output_type": "stream",
     "text": [
      "a\n",
      "b\n",
      "c\n"
     ]
    }
   ],
   "source": [
    "#for loop\n",
    "names=[\"a\", \"b\", \"c\"]\n",
    "for x in names:\n",
    "    print(x)"
   ]
  },
  {
   "cell_type": "code",
   "execution_count": 5,
   "metadata": {},
   "outputs": [
    {
     "name": "stdout",
     "output_type": "stream",
     "text": [
      "1\n",
      "2\n"
     ]
    }
   ],
   "source": [
    "#while loop\n",
    "i=1\n",
    "while i<3:\n",
    "    print(i)\n",
    "    i+=1"
   ]
  },
  {
   "cell_type": "code",
   "execution_count": 2,
   "metadata": {},
   "outputs": [
    {
     "name": "stdout",
     "output_type": "stream",
     "text": [
      "15\n"
     ]
    }
   ],
   "source": [
    "#walrus operator\n",
    "print(num:=15) #15 is asssigned to num and becomes the argument for print function"
   ]
  },
  {
   "cell_type": "code",
   "execution_count": 3,
   "metadata": {},
   "outputs": [
    {
     "name": "stdout",
     "output_type": "stream",
     "text": [
      "okay\n",
      "okay\n"
     ]
    }
   ],
   "source": [
    "#using simple assignment\n",
    "a=input(\"enter anything: \")\n",
    "while a!='': #until a is not empty string\n",
    "    print(\"okay\")\n",
    "    a=input(\"enter anything: \")"
   ]
  },
  {
   "cell_type": "code",
   "execution_count": 4,
   "metadata": {},
   "outputs": [
    {
     "name": "stdout",
     "output_type": "stream",
     "text": [
      "okay\n",
      "okay\n",
      "okay\n"
     ]
    }
   ],
   "source": [
    "#using walrus\n",
    "while (a:=input(\"enter anything: \")) != '':\n",
    "    print(\"okay\")"
   ]
  },
  {
   "attachments": {},
   "cell_type": "markdown",
   "metadata": {},
   "source": [
    "Map function maps a function with each item of an iterable (list, tuple, etc) and returns new iterable.\n",
    "The returned value has to be passed to a function like list() or set()."
   ]
  },
  {
   "cell_type": "code",
   "execution_count": 11,
   "metadata": {},
   "outputs": [
    {
     "name": "stdout",
     "output_type": "stream",
     "text": [
      "[2, 4, 6]\n"
     ]
    }
   ],
   "source": [
    "#map function\n",
    "def add(num):\n",
    "    return num+num\n",
    "a=(1, 2, 3) \n",
    "ans=map(add, a) \n",
    "print(list(ans)) "
   ]
  },
  {
   "attachments": {},
   "cell_type": "markdown",
   "metadata": {},
   "source": [
    "Filter function filters out which do not satisfy a given condition.\n"
   ]
  },
  {
   "attachments": {},
   "cell_type": "markdown",
   "metadata": {},
   "source": [
    "Lambda function is small anonymous function with only one expression.\n"
   ]
  },
  {
   "attachments": {},
   "cell_type": "markdown",
   "metadata": {},
   "source": [
    "Reduce function in functools module reduces an iterable to a single value by applying a function of 2 arguments cumulatively to the items of the iterable from left to right."
   ]
  },
  {
   "attachments": {},
   "cell_type": "markdown",
   "metadata": {},
   "source": [
    "functool module provides higher order functions (which can take function as an argument)."
   ]
  },
  {
   "cell_type": "code",
   "execution_count": 19,
   "metadata": {},
   "outputs": [
    {
     "name": "stdout",
     "output_type": "stream",
     "text": [
      "sum of list is: 10\n",
      "max element of list is: 4\n"
     ]
    }
   ],
   "source": [
    "import functools \n",
    "list=[1, 2, 3, 4]\n",
    "\n",
    "print(\"sum of list is: \", end=\"\")\n",
    "print(functools.reduce(lambda a, b: a+b, list)) #finding sum of list\n",
    "\n",
    "print(\"max element of list is: \", end=\"\")\n",
    "print(functools.reduce(lambda a, b:a if a>b else b, list)) #finding max element"
   ]
  },
  {
   "attachments": {},
   "cell_type": "markdown",
   "metadata": {},
   "source": [
    "Currying function takes multiple arguments and returns a sequence of functions that take a single argument each."
   ]
  },
  {
   "attachments": {},
   "cell_type": "markdown",
   "metadata": {},
   "source": [
    "The try statement is used to enclose the code that may raise an exception, while the except statement is used to define a block of code that should be executed when an exception occurs."
   ]
  },
  {
   "cell_type": "code",
   "execution_count": 5,
   "metadata": {},
   "outputs": [
    {
     "name": "stdout",
     "output_type": "stream",
     "text": [
      "0.5\n"
     ]
    }
   ],
   "source": [
    "try:\n",
    "    x=int(input(\"Enter a number: \"))\n",
    "    y=10/x\n",
    "    print(y)\n",
    "except ZeroDivisionError:\n",
    "    print(\"Zero Division Error\")\n",
    "except ValueError:\n",
    "    print(\"Value Error\")"
   ]
  },
  {
   "attachments": {},
   "cell_type": "markdown",
   "metadata": {},
   "source": [
    "Magic methods or dunder methods can be used to customize the behavior of classes. Some commonly used magic methods include init for initializing an object, str for converting an object to a string, eq for comparing two objects for equality."
   ]
  },
  {
   "cell_type": "code",
   "execution_count": 6,
   "metadata": {},
   "outputs": [],
   "source": [
    "class Person:\n",
    "    def __init__(self, name, age): #constructor\n",
    "        self.name=name\n",
    "        self.age=age"
   ]
  },
  {
   "attachments": {},
   "cell_type": "markdown",
   "metadata": {},
   "source": [
    "iterators can be implemented using the two special methods, __iter__() and __next__(). The iter() method is called for the initialization of an iterator. This returns an iterator object. The next method returns the next value for the iterable. This method raises a StopIteration to signal the end of the iteration."
   ]
  },
  {
   "cell_type": "code",
   "execution_count": 3,
   "metadata": {},
   "outputs": [
    {
     "name": "stdout",
     "output_type": "stream",
     "text": [
      "0\n",
      "1\n",
      "4\n",
      "9\n",
      "16\n",
      "25\n"
     ]
    }
   ],
   "source": [
    "#square upto 5 using iterators\n",
    "class squares:\n",
    "    def __init__(self, limit):\n",
    "        self.limit=limit\n",
    "        self.n=0 \n",
    "    def __iter__(self):\n",
    "        return self\n",
    "    def __next__(self):\n",
    "        if self.n<=self.limit:\n",
    "            square=self.n*self.n\n",
    "            self.n+=1\n",
    "            return square\n",
    "        else:\n",
    "            raise StopIteration\n",
    "numbers=squares(5)\n",
    "for n in numbers:\n",
    "    print(n)"
   ]
  },
  {
   "attachments": {},
   "cell_type": "markdown",
   "metadata": {},
   "source": [
    "yield replaces the return of a function to pause its execution of the function without losing any local variables. They are functions that return iterators."
   ]
  },
  {
   "cell_type": "code",
   "execution_count": 6,
   "metadata": {},
   "outputs": [
    {
     "name": "stdout",
     "output_type": "stream",
     "text": [
      "0\n",
      "1\n",
      "4\n",
      "9\n",
      "16\n",
      "25\n"
     ]
    }
   ],
   "source": [
    "#using generators\n",
    "def squares(n):\n",
    "    for i in range(n):\n",
    "        yield i*i\n",
    "generator=squares(6) #generator object\n",
    "for num in generator:\n",
    "    print(num)"
   ]
  },
  {
   "attachments": {},
   "cell_type": "markdown",
   "metadata": {},
   "source": [
    "Modifiers or Decorators are functions used to modify the behavior of another function. A decorator takes function as an argument and returns after modifying it."
   ]
  },
  {
   "cell_type": "code",
   "execution_count": 9,
   "metadata": {},
   "outputs": [
    {
     "name": "stdout",
     "output_type": "stream",
     "text": [
      "I am ordinary :(\n",
      "I got decorated :)\n"
     ]
    }
   ],
   "source": [
    "def make_pretty(func): #decorator\n",
    "    def inner():\n",
    "        func() #calling original function\n",
    "        print(\"I got decorated :)\") #add some additional behaviour\n",
    "    return inner\n",
    "def ordinary():\n",
    "    print(\"I am ordinary :(\")\n",
    "decorated_func=make_pretty(ordinary) #decorate the ordinary function\n",
    "decorated_func() #calling the decorated function"
   ]
  },
  {
   "cell_type": "code",
   "execution_count": 13,
   "metadata": {},
   "outputs": [
    {
     "name": "stdout",
     "output_type": "stream",
     "text": [
      "I am ordinary :(\n",
      "I got decorated :)\n"
     ]
    }
   ],
   "source": [
    "#using @ symbol\n",
    "def make_pretty(func):\n",
    "    def inner():\n",
    "        func()\n",
    "        print(\"I got decorated :)\")\n",
    "    return inner\n",
    "@make_pretty #equivalent to ordinary = make_pretty(ordinary)\n",
    "def ordinary():\n",
    "    print(\"I am ordinary :(\") \n",
    "ordinary()"
   ]
  }
 ],
 "metadata": {
  "kernelspec": {
   "display_name": "Python 3",
   "language": "python",
   "name": "python3"
  },
  "language_info": {
   "codemirror_mode": {
    "name": "ipython",
    "version": 3
   },
   "file_extension": ".py",
   "mimetype": "text/x-python",
   "name": "python",
   "nbconvert_exporter": "python",
   "pygments_lexer": "ipython3",
   "version": "3.11.1"
  },
  "orig_nbformat": 4
 },
 "nbformat": 4,
 "nbformat_minor": 2
}
