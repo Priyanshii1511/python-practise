{
 "cells": [
  {
   "attachments": {},
   "cell_type": "markdown",
   "metadata": {},
   "source": [
    "Variables are the example of identifiers. When we assign any value to the variable, that variable is declared automatically."
   ]
  },
  {
   "attachments": {},
   "cell_type": "markdown",
   "metadata": {},
   "source": [
    "Variables are a symbolic name that is a reference or pointer to an object."
   ]
  },
  {
   "cell_type": "code",
   "execution_count": 4,
   "metadata": {},
   "outputs": [
    {
     "name": "stdout",
     "output_type": "stream",
     "text": [
      "50 50\n",
      "20\n"
     ]
    }
   ],
   "source": [
    "a=50 #the variable a refers to an integer object.\n",
    "b=a \n",
    "#The variable b refers to the same object that a points to because Python does not create another object.\n",
    "print(a, b)\n",
    "c=10\n",
    "c=20 #updates c\n",
    "print(c)"
   ]
  },
  {
   "attachments": {},
   "cell_type": "markdown",
   "metadata": {},
   "source": [
    "Every created object identifies uniquely in Python."
   ]
  },
  {
   "cell_type": "code",
   "execution_count": 5,
   "metadata": {},
   "outputs": [
    {
     "name": "stdout",
     "output_type": "stream",
     "text": [
      "140711908926536\n",
      "140711908926536\n",
      "1663879641136\n"
     ]
    }
   ],
   "source": [
    "#id function returns object identity\n",
    "a=10\n",
    "b=a #same id because point to same object\n",
    "print(id(a)) \n",
    "print(id(b))\n",
    "a=500\n",
    "print(id(a)) #reassign a "
   ]
  },
  {
   "cell_type": "code",
   "execution_count": 6,
   "metadata": {},
   "outputs": [],
   "source": [
    "#variable names for code readability\n",
    "nameOfStudent='Priyanshi' #camel case\n",
    "NameOfStudent='Siwach' #pascal case\n",
    "name_of_student='Chulbul' #snake case"
   ]
  },
  {
   "cell_type": "code",
   "execution_count": 8,
   "metadata": {},
   "outputs": [
    {
     "name": "stdout",
     "output_type": "stream",
     "text": [
      "100 100 100\n",
      "10 20 30\n"
     ]
    }
   ],
   "source": [
    "#Multiple assignment\n",
    "a=b=c=100 #single value to multiple variables\n",
    "print(a, b, c)\n",
    "a, b, c=10, 20, 30 #multiple values to multiple variables\n",
    "print(a, b, c)"
   ]
  },
  {
   "attachments": {},
   "cell_type": "markdown",
   "metadata": {},
   "source": [
    "There are two types of variables in Python - Local variable and Global variable."
   ]
  },
  {
   "cell_type": "code",
   "execution_count": 16,
   "metadata": {},
   "outputs": [
    {
     "data": {
      "text/plain": [
       "3"
      ]
     },
     "execution_count": 16,
     "metadata": {},
     "output_type": "execute_result"
    }
   ],
   "source": [
    "def add():\n",
    "    x=1 #local variables have scope only within the function\n",
    "    y=2 #can only be used inside the function otherwise we will get NameError \n",
    "    return x+y\n",
    "add()"
   ]
  },
  {
   "cell_type": "code",
   "execution_count": 28,
   "metadata": {},
   "outputs": [
    {
     "name": "stdout",
     "output_type": "stream",
     "text": [
      "1001\n",
      "1002\n",
      "1002\n"
     ]
    }
   ],
   "source": [
    "x=1001 #global variable defined outside function has scope within whole program\n",
    "\n",
    "def funct():\n",
    "    global x #global keyword to access global variable within function\n",
    "    print(x)\n",
    "    x=1002 #updating the global variable\n",
    "    print(x)\n",
    "\n",
    "funct()\n",
    "print(x) #prints the value modified inside function"
   ]
  },
  {
   "attachments": {},
   "cell_type": "markdown",
   "metadata": {},
   "source": [
    "We can delete the variable using the del keyword."
   ]
  },
  {
   "cell_type": "code",
   "execution_count": 31,
   "metadata": {},
   "outputs": [
    {
     "name": "stdout",
     "output_type": "stream",
     "text": [
      "100\n"
     ]
    }
   ],
   "source": [
    "p=100\n",
    "print(p)\n",
    "del p #now p is deleted so we cannot print it otherwise NameError will come"
   ]
  },
  {
   "attachments": {},
   "cell_type": "markdown",
   "metadata": {},
   "source": [
    "Python doesn't have long int or float data types. It treats all integer values as an int data type but it can still store very large numbers upto the limit of memory."
   ]
  },
  {
   "cell_type": "code",
   "execution_count": 33,
   "metadata": {},
   "outputs": [
    {
     "name": "stdout",
     "output_type": "stream",
     "text": [
      "100000000000000000001\n",
      "<class 'int'>\n"
     ]
    }
   ],
   "source": [
    "a=100000000000000000000\n",
    "a+=1\n",
    "print(a)\n",
    "print(type(a)) "
   ]
  }
 ],
 "metadata": {
  "kernelspec": {
   "display_name": "Python 3",
   "language": "python",
   "name": "python3"
  },
  "language_info": {
   "codemirror_mode": {
    "name": "ipython",
    "version": 3
   },
   "file_extension": ".py",
   "mimetype": "text/x-python",
   "name": "python",
   "nbconvert_exporter": "python",
   "pygments_lexer": "ipython3",
   "version": "3.11.1"
  },
  "orig_nbformat": 4
 },
 "nbformat": 4,
 "nbformat_minor": 2
}
