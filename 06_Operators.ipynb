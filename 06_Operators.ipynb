{
 "cells": [
  {
   "cell_type": "markdown",
   "metadata": {},
   "source": [
    "Operator is a symbol that performs a certain operation between two operands."
   ]
  },
  {
   "cell_type": "code",
   "execution_count": 6,
   "metadata": {},
   "outputs": [
    {
     "name": "stdout",
     "output_type": "stream",
     "text": [
      "30 -10 200\n",
      "13.333333333333334 13.0\n",
      "9\n",
      "1\n"
     ]
    }
   ],
   "source": [
    "#arithmetic operators\n",
    "a=10\n",
    "b=20\n",
    "print(a+b, a-b, a*b)\n",
    "x=100\n",
    "y=7.5 #float answer will come upto 15 decimal points\n",
    "print(x/y, x//y) #// is floor division so it rounds off to the left\n",
    "print(3**2) #power\n",
    "print(9%2) #remainder or modulo"
   ]
  },
  {
   "cell_type": "code",
   "execution_count": 8,
   "metadata": {},
   "outputs": [
    {
     "name": "stdout",
     "output_type": "stream",
     "text": [
      "False\n",
      "True\n",
      "False\n",
      "True\n"
     ]
    }
   ],
   "source": [
    "#Comparison or relational operators\n",
    "#returns true or false\n",
    "print(1==2)\n",
    "print(1<2)\n",
    "print(2>=3)\n",
    "print(10!=20)"
   ]
  },
  {
   "cell_type": "code",
   "execution_count": 13,
   "metadata": {},
   "outputs": [
    {
     "name": "stdout",
     "output_type": "stream",
     "text": [
      "5\n",
      "4\n",
      "40\n",
      "4.0\n",
      "1.0\n",
      "1.0\n",
      "0.0\n"
     ]
    }
   ],
   "source": [
    "#Assignment operators\n",
    "a=4\n",
    "a+=1\n",
    "print(a)\n",
    "a-=1\n",
    "print(a)\n",
    "a*=10\n",
    "print(a)\n",
    "a/=10\n",
    "print(a)\n",
    "a//=3\n",
    "print(a)\n",
    "a**=10\n",
    "print(a)\n",
    "a%=1\n",
    "print(a)"
   ]
  },
  {
   "cell_type": "code",
   "execution_count": 32,
   "metadata": {},
   "outputs": [
    {
     "name": "stdout",
     "output_type": "stream",
     "text": [
      "0b111\n",
      "0b110\n",
      "6\n",
      "1\n",
      "1\n",
      "-61\n",
      "59\n",
      "4\n",
      "2\n"
     ]
    }
   ],
   "source": [
    "#Bitwise operators\n",
    "print(bin(7)) #returns binary \n",
    "print(bin(6))\n",
    "print(7&6) #returns decimal after performing and operation\n",
    "print(1|0) #bitwise or\n",
    "print(7^6) #xor\n",
    "#~ is the bitwise inversion or NOT operator\n",
    "#for positive x it is defined as -(x+1)\n",
    "#for negative x it is defined as x-1\n",
    "print(~60)\n",
    "print(~-60)\n",
    "print(1<<2) #left shift increases the number\n",
    "print(4>>1) #right shift decreases the number"
   ]
  },
  {
   "cell_type": "code",
   "execution_count": 33,
   "metadata": {},
   "outputs": [
    {
     "name": "stdout",
     "output_type": "stream",
     "text": [
      "True\n",
      "True\n",
      "True\n"
     ]
    }
   ],
   "source": [
    "#Logical operators\n",
    "print(True and True)\n",
    "print(False or True)\n",
    "print(not False)"
   ]
  },
  {
   "cell_type": "code",
   "execution_count": 35,
   "metadata": {},
   "outputs": [
    {
     "name": "stdout",
     "output_type": "stream",
     "text": [
      "True\n",
      "True\n"
     ]
    }
   ],
   "source": [
    "#Membership operators\n",
    "lis=[1, 2, 3]\n",
    "print(3 in lis)\n",
    "print(4 not in lis)"
   ]
  },
  {
   "cell_type": "code",
   "execution_count": 38,
   "metadata": {},
   "outputs": [
    {
     "name": "stdout",
     "output_type": "stream",
     "text": [
      "True\n",
      "True\n"
     ]
    }
   ],
   "source": [
    "#Identity operators\n",
    "a=10\n",
    "b=10\n",
    "c=20\n",
    "print(a is b) #references to same object\n",
    "print(c is not b)"
   ]
  },
  {
   "cell_type": "markdown",
   "metadata": {},
   "source": [
    "Operators have different levels of precedence, which determine the order in which they are evaluated. In the case of operators with the same precedence, their associativity comes into play, determining the order of evaluation (left to right or right to left)."
   ]
  }
 ],
 "metadata": {
  "kernelspec": {
   "display_name": "Python 3",
   "language": "python",
   "name": "python3"
  },
  "language_info": {
   "codemirror_mode": {
    "name": "ipython",
    "version": 3
   },
   "file_extension": ".py",
   "mimetype": "text/x-python",
   "name": "python",
   "nbconvert_exporter": "python",
   "pygments_lexer": "ipython3",
   "version": "3.11.1"
  },
  "orig_nbformat": 4
 },
 "nbformat": 4,
 "nbformat_minor": 2
}
