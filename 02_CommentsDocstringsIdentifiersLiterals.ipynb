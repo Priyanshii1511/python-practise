{
 "cells": [
  {
   "attachments": {},
   "cell_type": "markdown",
   "metadata": {},
   "source": [
    "A docstring or documentation string is like a comment but can be accessed using __doc__ and is written after a function or object."
   ]
  },
  {
   "cell_type": "code",
   "execution_count": 19,
   "metadata": {},
   "outputs": [
    {
     "name": "stdout",
     "output_type": "stream",
     "text": [
      "HEY\n",
      "provides info about a function\n"
     ]
    }
   ],
   "source": [
    "print(\"HEY\")\n",
    "#this is a single line comment\n",
    "\n",
    "def me():\n",
    "    '''provides info about a function'''\n",
    "    return \n",
    "print(me.__doc__)"
   ]
  },
  {
   "attachments": {},
   "cell_type": "markdown",
   "metadata": {},
   "source": [
    "Python does not support multi line comments and they can sometimes become accidental docstring"
   ]
  },
  {
   "cell_type": "code",
   "execution_count": 17,
   "metadata": {},
   "outputs": [
    {
     "name": "stdout",
     "output_type": "stream",
     "text": [
      "hii\n"
     ]
    }
   ],
   "source": [
    "\"\"\"\n",
    "multi line comment\n",
    "using string literal\n",
    "\"\"\"\n",
    "#multi line\n",
    "#can also be written\n",
    "#with multiple hashtags\n",
    "print(\"hii\")"
   ]
  },
  {
   "attachments": {},
   "cell_type": "markdown",
   "metadata": {},
   "source": [
    "Identifier is a name given to a variable, function etc. It cannot be similar to any keyword."
   ]
  },
  {
   "cell_type": "code",
   "execution_count": 1,
   "metadata": {},
   "outputs": [
    {
     "name": "stdout",
     "output_type": "stream",
     "text": [
      "10 20 4 10\n"
     ]
    }
   ],
   "source": [
    "a=10\n",
    "A=20 #case sensitive\n",
    "_a=4 #can start with underscore or alphabet only\n",
    "abc1=10 #can contain numbers, lower and upper case alphabets and underscore\n",
    "#cannot contain white space or special characters\n",
    "\n",
    "print(a, A, _a, abc1)"
   ]
  },
  {
   "cell_type": "markdown",
   "metadata": {},
   "source": [
    "Python Literals can be defined as data that is given in a variable or constant."
   ]
  },
  {
   "cell_type": "code",
   "execution_count": 7,
   "metadata": {},
   "outputs": [
    {
     "name": "stdout",
     "output_type": "stream",
     "text": [
      "hello\n",
      "hello namaste\n",
      "hey\n",
      "raam\n"
     ]
    }
   ],
   "source": [
    "#String literals\n",
    "a='hello' #single line\n",
    "print(a)\n",
    "b='hello \\\n",
    "namaste' #using backslash continues the string\n",
    "print(b)\n",
    "c='''hey\n",
    "raam''' #using triple quote makes it multi line\n",
    "print(c)"
   ]
  },
  {
   "cell_type": "code",
   "execution_count": 12,
   "metadata": {},
   "outputs": [
    {
     "name": "stdout",
     "output_type": "stream",
     "text": [
      "20 105 141 301\n",
      "100.5 150.0\n",
      "3.5 3.0 (3+3.5j)\n"
     ]
    }
   ],
   "source": [
    "#Numeric literals\n",
    "a=0b10100 #binary\n",
    "b=105 #decimal\n",
    "z=0o215 #octal\n",
    "w=0x12d #hexadecimal\n",
    "print(a, b, z, w) #prints in decimal\n",
    "\n",
    "f1=100.5 #float literals\n",
    "f2=1.5e2 #e2 means 10 to the power of 2\n",
    "print(f1, f2)\n",
    "\n",
    "cmpnum=3+3.5j #complex literal\n",
    "print(cmpnum.imag, cmpnum.real, cmpnum) #prints imaginary and real parts in float"
   ]
  },
  {
   "cell_type": "code",
   "execution_count": 14,
   "metadata": {},
   "outputs": [
    {
     "name": "stdout",
     "output_type": "stream",
     "text": [
      "True True False True False 11 -2\n"
     ]
    }
   ],
   "source": [
    "#Boolean literals\n",
    "x=True\n",
    "y=(1==True)\n",
    "z=(50==True)\n",
    "w=(0==False)\n",
    "p=(5==False)\n",
    "q=True+10\n",
    "r=False-2\n",
    "print(x, y, z, w, p, q, r)"
   ]
  },
  {
   "cell_type": "markdown",
   "metadata": {},
   "source": [
    "Python contains one special literal i.e., None."
   ]
  },
  {
   "cell_type": "code",
   "execution_count": 15,
   "metadata": {},
   "outputs": [
    {
     "name": "stdout",
     "output_type": "stream",
     "text": [
      "None\n"
     ]
    }
   ],
   "source": [
    "#Special literals\n",
    "val1=None\n",
    "print(val1)"
   ]
  },
  {
   "cell_type": "markdown",
   "metadata": {},
   "source": [
    "There are four types of literal collection such as List literals, Tuple literals, Dict literals, and Set literals."
   ]
  }
 ],
 "metadata": {
  "kernelspec": {
   "display_name": "Python 3",
   "language": "python",
   "name": "python3"
  },
  "language_info": {
   "codemirror_mode": {
    "name": "ipython",
    "version": 3
   },
   "file_extension": ".py",
   "mimetype": "text/x-python",
   "name": "python",
   "nbconvert_exporter": "python",
   "pygments_lexer": "ipython3",
   "version": "3.11.1"
  },
  "orig_nbformat": 4
 },
 "nbformat": 4,
 "nbformat_minor": 2
}
