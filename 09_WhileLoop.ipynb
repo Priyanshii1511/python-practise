{
 "cells": [
  {
   "cell_type": "markdown",
   "metadata": {},
   "source": [
    "While loops are used in Python to iterate until a specified condition is met. "
   ]
  },
  {
   "cell_type": "code",
   "execution_count": 1,
   "metadata": {},
   "outputs": [
    {
     "name": "stdout",
     "output_type": "stream",
     "text": [
      "10\n",
      "9\n",
      "8\n",
      "7\n",
      "6\n"
     ]
    }
   ],
   "source": [
    "a=10\n",
    "while a>5:\n",
    "    print(a)\n",
    "    a-=1"
   ]
  },
  {
   "cell_type": "code",
   "execution_count": 3,
   "metadata": {},
   "outputs": [
    {
     "name": "stdout",
     "output_type": "stream",
     "text": [
      "Python Loops\n",
      "Python Loops\n",
      "Python Loops\n",
      "Python Loops\n",
      "Code block inside the else statement\n"
     ]
    }
   ],
   "source": [
    "#else with while loop\n",
    "counter=0    \n",
    "while counter<10:      \n",
    "    counter=counter+3  \n",
    "    print(\"Python Loops\")  \n",
    "else:  \n",
    "    print(\"Code block inside the else statement\")  "
   ]
  },
  {
   "cell_type": "code",
   "execution_count": 7,
   "metadata": {},
   "outputs": [],
   "source": [
    "#single statement while block\n",
    "a=10\n",
    "while a>0: a-=1 "
   ]
  },
  {
   "cell_type": "code",
   "execution_count": 11,
   "metadata": {},
   "outputs": [
    {
     "name": "stdout",
     "output_type": "stream",
     "text": [
      "2 is a prime number.\n",
      "3 is a prime number.\n",
      "4 is not a prime number.\n",
      "5 is a prime number.\n",
      "6 is not a prime number.\n",
      "7 is a prime number.\n",
      "8 is not a prime number.\n",
      "9 is not a prime number.\n",
      "10 is not a prime number.\n"
     ]
    }
   ],
   "source": [
    "#program to check whether a number is prime\n",
    "nums=[2, 3, 4, 5, 6, 7, 8, 9, 10]\n",
    "def pm(num):\n",
    "    flag=0\n",
    "    i=2\n",
    "    while i<=num/2:\n",
    "        if num%i==0:\n",
    "            flag=1\n",
    "            break\n",
    "        i+=1\n",
    "    if flag==0:\n",
    "        print(f\"{num} is a prime number.\") #the f-string is used for interpolation, %d can also be used\n",
    "    else:\n",
    "        print(f\"{num} is not a prime number.\")\n",
    "for i in nums:\n",
    "    pm(i)"
   ]
  },
  {
   "cell_type": "code",
   "execution_count": 12,
   "metadata": {},
   "outputs": [
    {
     "name": "stdout",
     "output_type": "stream",
     "text": [
      "9 x 1 = 9\n",
      "9 x 2 = 18\n",
      "9 x 3 = 27\n",
      "9 x 4 = 36\n",
      "9 x 5 = 45\n",
      "9 x 6 = 54\n",
      "9 x 7 = 63\n",
      "9 x 8 = 72\n",
      "9 x 9 = 81\n",
      "9 x 10 = 90\n"
     ]
    }
   ],
   "source": [
    "#Multiplication table using while loop\n",
    "num=int(input())\n",
    "count=1\n",
    "while count<=10:\n",
    "    ans=num*count\n",
    "    print(num, 'x', count, '=', ans)\n",
    "    count+=1"
   ]
  },
  {
   "cell_type": "code",
   "execution_count": 15,
   "metadata": {},
   "outputs": [
    {
     "name": "stdout",
     "output_type": "stream",
     "text": [
      "[6, 4, 2]\n"
     ]
    }
   ],
   "source": [
    "#while loop with lists\n",
    "lis1=[2, 4, 6]\n",
    "newlist=[]\n",
    "while lis1: #iterates over the list from the back until it is empty\n",
    "    newlist.append(lis1.pop()) #pops from the list and appends to new one\n",
    "print(newlist)"
   ]
  },
  {
   "cell_type": "code",
   "execution_count": 16,
   "metadata": {},
   "outputs": [
    {
     "name": "stdout",
     "output_type": "stream",
     "text": [
      "9 21\n",
      "8 22\n"
     ]
    }
   ],
   "source": [
    "#multiple conditions in while loop using logical operators\n",
    "a=10\n",
    "b=20\n",
    "while a>8 and b<22:\n",
    "    a-=1\n",
    "    b+=1\n",
    "    print(a, b)"
   ]
  }
 ],
 "metadata": {
  "kernelspec": {
   "display_name": "Python 3",
   "language": "python",
   "name": "python3"
  },
  "language_info": {
   "codemirror_mode": {
    "name": "ipython",
    "version": 3
   },
   "file_extension": ".py",
   "mimetype": "text/x-python",
   "name": "python",
   "nbconvert_exporter": "python",
   "pygments_lexer": "ipython3",
   "version": "3.11.1"
  },
  "orig_nbformat": 4
 },
 "nbformat": 4,
 "nbformat_minor": 2
}
