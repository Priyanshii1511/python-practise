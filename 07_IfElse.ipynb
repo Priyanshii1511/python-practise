{
 "cells": [
  {
   "cell_type": "code",
   "execution_count": 1,
   "metadata": {},
   "outputs": [
    {
     "name": "stdout",
     "output_type": "stream",
     "text": [
      "even\n"
     ]
    }
   ],
   "source": [
    "#simple if\n",
    "num=int(input())\n",
    "if num%2==0:\n",
    "    print(\"even\")"
   ]
  },
  {
   "cell_type": "code",
   "execution_count": 2,
   "metadata": {},
   "outputs": [
    {
     "name": "stdout",
     "output_type": "stream",
     "text": [
      "not eligible\n"
     ]
    }
   ],
   "source": [
    "#if else\n",
    "age=int(input())\n",
    "if age>=18:\n",
    "    print(\"eligible to vote\")\n",
    "else:\n",
    "    print(\"not eligible\")"
   ]
  },
  {
   "cell_type": "code",
   "execution_count": 6,
   "metadata": {},
   "outputs": [
    {
     "name": "stdout",
     "output_type": "stream",
     "text": [
      "Excellent\n"
     ]
    }
   ],
   "source": [
    "#elif\n",
    "marks=int(input())\n",
    "if marks>=75:\n",
    "    print(\"Excellent\")\n",
    "elif marks<75 and marks>=50:\n",
    "    print(\"good\")\n",
    "else:\n",
    "    print(\"just pass\")"
   ]
  },
  {
   "cell_type": "code",
   "execution_count": 7,
   "metadata": {},
   "outputs": [
    {
     "name": "stdout",
     "output_type": "stream",
     "text": [
      "c is largest\n"
     ]
    }
   ],
   "source": [
    "#nested if else\n",
    "a=10\n",
    "b=20\n",
    "c=30\n",
    "if a>b:\n",
    "    if a>c:\n",
    "        print(\"a is largest\")\n",
    "    else:\n",
    "        print(\"c is largest\")\n",
    "else:\n",
    "    if b>c:\n",
    "        print(\"b is largest\")\n",
    "    else:\n",
    "        print(\"c is largest\")"
   ]
  },
  {
   "cell_type": "code",
   "execution_count": 3,
   "metadata": {},
   "outputs": [
    {
     "name": "stdout",
     "output_type": "stream",
     "text": [
      "yes\n"
     ]
    }
   ],
   "source": [
    "#if else code block in single line\n",
    "a=10\n",
    "if a==10: print(\"yes\") \n",
    "else: print(\"no\")"
   ]
  }
 ],
 "metadata": {
  "kernelspec": {
   "display_name": "Python 3",
   "language": "python",
   "name": "python3"
  },
  "language_info": {
   "codemirror_mode": {
    "name": "ipython",
    "version": 3
   },
   "file_extension": ".py",
   "mimetype": "text/x-python",
   "name": "python",
   "nbconvert_exporter": "python",
   "pygments_lexer": "ipython3",
   "version": "3.11.1"
  },
  "orig_nbformat": 4
 },
 "nbformat": 4,
 "nbformat_minor": 2
}
