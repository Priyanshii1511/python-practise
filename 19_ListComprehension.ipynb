{
 "cells": [
  {
   "cell_type": "markdown",
   "metadata": {},
   "source": [
    "List Comprehension allows us to develop sophisticated functionality with just one line of code. "
   ]
  },
  {
   "cell_type": "markdown",
   "metadata": {},
   "source": [
    "Syntax for list comprehension:- newlist = [expression for item in iterable if condition == True] "
   ]
  },
  {
   "cell_type": "code",
   "execution_count": 4,
   "metadata": {},
   "outputs": [
    {
     "name": "stdout",
     "output_type": "stream",
     "text": [
      "['abc', 'bcd']\n"
     ]
    }
   ],
   "source": [
    "alph=[\"abc\", \"bcd\", \"cde\"]\n",
    "newalph=[x for x in alph if \"b\" in x] #if b is present in the element then it is added to the list newalph\n",
    "print(newalph)"
   ]
  },
  {
   "cell_type": "code",
   "execution_count": 5,
   "metadata": {},
   "outputs": [
    {
     "name": "stdout",
     "output_type": "stream",
     "text": [
      "[4, 16, 36, 64]\n"
     ]
    }
   ],
   "source": [
    "#to find square of numbers in list \n",
    "sqlist=[n**2 for n in [2, 4, 6, 8]]\n",
    "print(sqlist)"
   ]
  },
  {
   "cell_type": "code",
   "execution_count": 6,
   "metadata": {},
   "outputs": [
    {
     "name": "stdout",
     "output_type": "stream",
     "text": [
      "[1, 3, 5, 7, 9]\n"
     ]
    }
   ],
   "source": [
    "#to print all odd numbers in a range\n",
    "print([a for a in range(10) if a%2!=0])"
   ]
  },
  {
   "cell_type": "code",
   "execution_count": 9,
   "metadata": {},
   "outputs": [
    {
     "name": "stdout",
     "output_type": "stream",
     "text": [
      "[11, 4, 18, 8, 3]\n"
     ]
    }
   ],
   "source": [
    "#addition of the digits of numbers in a list\n",
    "def sod(n):\n",
    "    sum1=0\n",
    "    for i in str(n): #convert the number to string to iterate on it\n",
    "        sum1+=int(i) \n",
    "    return sum1\n",
    "list1=[47, 22, 99, 80, 120]\n",
    "ans=[sod(i) for i in list1] \n",
    "print(ans)"
   ]
  },
  {
   "cell_type": "code",
   "execution_count": 10,
   "metadata": {},
   "outputs": [
    {
     "name": "stdout",
     "output_type": "stream",
     "text": [
      "[[0, 1, 2, 3, 4], [1, 2, 3, 4, 5], [2, 3, 4, 5, 6]]\n"
     ]
    }
   ],
   "source": [
    "#Nested List comprehension\n",
    "#using nested for loops\n",
    "nested_loop=[]\n",
    "for i in range(3):\n",
    "    nested_loop.append([]) #append an empty sublist into the empty list\n",
    "    for j in range(5):\n",
    "        nested_loop[i].append(i+j)\n",
    "print(nested_loop)"
   ]
  },
  {
   "cell_type": "code",
   "execution_count": 11,
   "metadata": {},
   "outputs": [
    {
     "name": "stdout",
     "output_type": "stream",
     "text": [
      "[[0, 1, 2, 3, 4], [1, 2, 3, 4, 5], [2, 3, 4, 5, 6]]\n"
     ]
    }
   ],
   "source": [
    "#using nested list comprehension\n",
    "nested_list=[[i+j for j in range(5)] for i in range(3)]\n",
    "print(nested_list)"
   ]
  },
  {
   "cell_type": "code",
   "execution_count": 5,
   "metadata": {},
   "outputs": [
    {
     "name": "stdout",
     "output_type": "stream",
     "text": [
      "Time taken by for loop: 0.5798602104187012\n",
      "Time taken by list comprehension: 0.4682328701019287\n"
     ]
    }
   ],
   "source": [
    "#Calculating time taken by for loop and list comprehension\n",
    "import time\n",
    "\n",
    "#defining a function to add n numbers to a list using for loop\n",
    "def for_loop(n):\n",
    "    list1=[]\n",
    "    for i in range(n):\n",
    "        list1.append(i)\n",
    "    return list1\n",
    "\n",
    "#using list comprehension\n",
    "def list_comp(n):\n",
    "    return [i for i in range(n)]\n",
    "\n",
    "#calculating time taken by for loop\n",
    "start=time.time() #time instants before \n",
    "for_loop(10000000)\n",
    "end=time.time() #time instants after\n",
    "print(\"Time taken by for loop:\", end-start)\n",
    "\n",
    "#calculating time taken by list comprehension\n",
    "start=time.time()\n",
    "list_comp(10000000)\n",
    "end=time.time()\n",
    "print(\"Time taken by list comprehension:\", end-start)"
   ]
  }
 ],
 "metadata": {
  "kernelspec": {
   "display_name": "Python 3",
   "language": "python",
   "name": "python3"
  },
  "language_info": {
   "codemirror_mode": {
    "name": "ipython",
    "version": 3
   },
   "file_extension": ".py",
   "mimetype": "text/x-python",
   "name": "python",
   "nbconvert_exporter": "python",
   "pygments_lexer": "ipython3",
   "version": "3.11.1"
  },
  "orig_nbformat": 4
 },
 "nbformat": 4,
 "nbformat_minor": 2
}
