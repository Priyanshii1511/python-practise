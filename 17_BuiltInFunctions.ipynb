{
 "cells": [
  {
   "cell_type": "markdown",
   "metadata": {},
   "source": [
    "Built-in functions are those which are always present for use and whose functionality is pre-defined."
   ]
  },
  {
   "cell_type": "markdown",
   "metadata": {},
   "source": [
    "The python abs() function is used to return the absolute value of a number. "
   ]
  },
  {
   "cell_type": "code",
   "execution_count": 5,
   "metadata": {},
   "outputs": [
    {
     "name": "stdout",
     "output_type": "stream",
     "text": [
      "20\n",
      "1.2\n",
      "1.0\n",
      "5.0\n"
     ]
    }
   ],
   "source": [
    "#abs\n",
    "print(abs(-20))\n",
    "print(abs(1.2))\n",
    "print(abs(-1.0))\n",
    "print(abs(3+4j)) #returns magnitude for complex numbers"
   ]
  },
  {
   "cell_type": "markdown",
   "metadata": {},
   "source": [
    "The python all() function accepts an iterable object (such as list, dictionary, etc.). It returns true if all items in passed iterable are true, otherwise false."
   ]
  },
  {
   "cell_type": "code",
   "execution_count": 10,
   "metadata": {},
   "outputs": [
    {
     "name": "stdout",
     "output_type": "stream",
     "text": [
      "True\n",
      "False\n",
      "False\n",
      "True\n",
      "True\n"
     ]
    }
   ],
   "source": [
    "#all\n",
    "k=[1, 2, 3, 4]\n",
    "print(all(k))\n",
    "print(all([1, 0]))\n",
    "print(all([False, True]))\n",
    "print(all([True, 9]))\n",
    "p=[]\n",
    "print(all(p)) #returns true for empty iterable"
   ]
  },
  {
   "cell_type": "markdown",
   "metadata": {},
   "source": [
    "The python any() function returns true if any item in an iterable is true. Otherwise, it returns False."
   ]
  },
  {
   "cell_type": "code",
   "execution_count": 67,
   "metadata": {},
   "outputs": [
    {
     "name": "stdout",
     "output_type": "stream",
     "text": [
      "True\n",
      "False\n",
      "False\n"
     ]
    }
   ],
   "source": [
    "#any\n",
    "print(any([True, 0]))\n",
    "print(any([False, None]))\n",
    "print(any([])) #returns false for empty iterables"
   ]
  },
  {
   "cell_type": "markdown",
   "metadata": {},
   "source": [
    "The python bin() function is used to return the binary representation of a specified integer."
   ]
  },
  {
   "cell_type": "code",
   "execution_count": 11,
   "metadata": {},
   "outputs": [
    {
     "name": "stdout",
     "output_type": "stream",
     "text": [
      "0b111\n"
     ]
    }
   ],
   "source": [
    "#bin\n",
    "print(bin(7)) #output always starts with 0b"
   ]
  },
  {
   "cell_type": "markdown",
   "metadata": {},
   "source": [
    "Python oct() function is used to get an octal value of an integer number."
   ]
  },
  {
   "cell_type": "code",
   "execution_count": 45,
   "metadata": {},
   "outputs": [
    {
     "name": "stdout",
     "output_type": "stream",
     "text": [
      "0o144\n"
     ]
    }
   ],
   "source": [
    "#oct\n",
    "print(oct(100))"
   ]
  },
  {
   "cell_type": "markdown",
   "metadata": {},
   "source": [
    "Python hex() function is used to generate hex value of an integer argument. In case, we want to get a hexadecimal value of a float, then use float.hex() function."
   ]
  },
  {
   "cell_type": "code",
   "execution_count": 44,
   "metadata": {},
   "outputs": [
    {
     "name": "stdout",
     "output_type": "stream",
     "text": [
      "0xf\n"
     ]
    }
   ],
   "source": [
    "#hex\n",
    "print(hex(15))"
   ]
  },
  {
   "cell_type": "markdown",
   "metadata": {},
   "source": [
    "The python bool() converts a value to boolean(True or False) using the standard truth testing procedure."
   ]
  },
  {
   "cell_type": "code",
   "execution_count": 12,
   "metadata": {},
   "outputs": [
    {
     "name": "stdout",
     "output_type": "stream",
     "text": [
      "True\n",
      "False\n",
      "True\n",
      "False\n",
      "False\n",
      "True\n"
     ]
    }
   ],
   "source": [
    "#bool\n",
    "print(bool(True))\n",
    "print(bool([]))\n",
    "print(bool([0]))\n",
    "print(bool(0.0))\n",
    "print(bool(None))\n",
    "print(bool('ps'))"
   ]
  },
  {
   "cell_type": "markdown",
   "metadata": {},
   "source": [
    "There are six sequence types in Python: strings, bytes objects, bytearray objects, lists, tuples, and range objects. "
   ]
  },
  {
   "cell_type": "markdown",
   "metadata": {},
   "source": [
    "Strings are sequences of characters. They are human-readable. They can't be directly stored on the disk, you have to encode them into a machine-readable format that is bytes."
   ]
  },
  {
   "cell_type": "code",
   "execution_count": 17,
   "metadata": {},
   "outputs": [
    {
     "name": "stdout",
     "output_type": "stream",
     "text": [
      "b'priyanshi'\n"
     ]
    }
   ],
   "source": [
    "#encoding strings to byte objects\n",
    "s='priyanshi'\n",
    "print(s.encode('UTF-8')) #ASCII could also be used instead of utf-8 as the encoding type"
   ]
  },
  {
   "cell_type": "markdown",
   "metadata": {},
   "source": [
    "Byte objects are immutable (while byte array are mutable) sequences of bytes (integers in the range 0 to 255). Bytes can be directly stored on the disk. They are machine-readable, you have to decode them into a human-readable format which is a string. "
   ]
  },
  {
   "cell_type": "code",
   "execution_count": 76,
   "metadata": {},
   "outputs": [
    {
     "data": {
      "text/plain": [
       "'priyanshi'"
      ]
     },
     "execution_count": 76,
     "metadata": {},
     "output_type": "execute_result"
    }
   ],
   "source": [
    "#decoding bytes into strings\n",
    "s=b'priyanshi'\n",
    "s.decode() #UTF-8 is default encoding, decoding type"
   ]
  },
  {
   "cell_type": "markdown",
   "metadata": {},
   "source": [
    "The bytes() in Python is used for returning a bytes object. It can create empty bytes object of the specified size."
   ]
  },
  {
   "cell_type": "code",
   "execution_count": 20,
   "metadata": {},
   "outputs": [
    {
     "name": "stdout",
     "output_type": "stream",
     "text": [
      "b'siwach'\n"
     ]
    }
   ],
   "source": [
    "#bytes \n",
    "print(bytes(\"siwach\", 'UTF-8')) #returns a byte object"
   ]
  },
  {
   "cell_type": "markdown",
   "metadata": {},
   "source": [
    "The parameters for the bytes() and the bytearray() functions are source, encoding and error but all of these 3 are optional."
   ]
  },
  {
   "cell_type": "code",
   "execution_count": 23,
   "metadata": {},
   "outputs": [
    {
     "name": "stdout",
     "output_type": "stream",
     "text": [
      "bytearray(b'abc')\n"
     ]
    }
   ],
   "source": [
    "#bytearray\n",
    "print(bytearray(\"abc\", 'UTF-8')) #returns an array of bytes"
   ]
  },
  {
   "cell_type": "markdown",
   "metadata": {},
   "source": [
    "The callable() function checks and returns true if the object passed appears to be callable, otherwise false."
   ]
  },
  {
   "cell_type": "code",
   "execution_count": 28,
   "metadata": {},
   "outputs": [
    {
     "name": "stdout",
     "output_type": "stream",
     "text": [
      "False\n",
      "True\n",
      "True\n"
     ]
    }
   ],
   "source": [
    "#callable\n",
    "x=8\n",
    "print(callable(x))\n",
    "def p():\n",
    "    return None\n",
    "y=p\n",
    "print(callable(p))\n",
    "print(callable(y))"
   ]
  },
  {
   "cell_type": "markdown",
   "metadata": {},
   "source": [
    "The python eval() function parses the expression (only single expression) passed to it and runs python code within the program."
   ]
  },
  {
   "cell_type": "code",
   "execution_count": 29,
   "metadata": {},
   "outputs": [
    {
     "name": "stdout",
     "output_type": "stream",
     "text": [
      "9\n"
     ]
    }
   ],
   "source": [
    "#eval\n",
    "x=8\n",
    "print(eval('x+1'))"
   ]
  },
  {
   "cell_type": "markdown",
   "metadata": {},
   "source": [
    "The python exec() function is used for the dynamic execution of Python program which can either be a string or object code and it accepts large blocks of code, unlike eval()."
   ]
  },
  {
   "cell_type": "code",
   "execution_count": 35,
   "metadata": {},
   "outputs": [
    {
     "name": "stdout",
     "output_type": "stream",
     "text": [
      "9\n",
      "True\n",
      "0b111\n"
     ]
    }
   ],
   "source": [
    "#exec\n",
    "x=8\n",
    "exec('print(x+1)')\n",
    "exec('print(x==8)')\n",
    "exec('print(bin(abs(-7)))')"
   ]
  },
  {
   "cell_type": "markdown",
   "metadata": {},
   "source": [
    "The python compile() function takes source code as input and returns a code object which can later be executed by exec() function. Signature:- compile(source, filename, mode, flag, dont_inherit, optimize). Source is a string object, mode can be exec(block of statements), eval(single expressions) or single(single statement), other 3 are the optional parameters."
   ]
  },
  {
   "cell_type": "code",
   "execution_count": 51,
   "metadata": {},
   "outputs": [
    {
     "name": "stdout",
     "output_type": "stream",
     "text": [
      "<class 'code'>\n",
      "4\n",
      "5\n"
     ]
    }
   ],
   "source": [
    "#compile\n",
    "code_str='x=1\\ny=3\\nprint(x+y)' #block of statements\n",
    "code=compile(code_str, 'sum.py', 'exec') \n",
    "print(type(code))\n",
    "exec(code)\n",
    "\n",
    "code_s='print(1+4)' #single expression\n",
    "code1=compile(code_s, 'x.py', 'eval')\n",
    "eval(code1)"
   ]
  },
  {
   "cell_type": "markdown",
   "metadata": {},
   "source": [
    "The sum() function is used to get the sum of numbers of an iterable."
   ]
  },
  {
   "cell_type": "code",
   "execution_count": 64,
   "metadata": {},
   "outputs": [
    {
     "name": "stdout",
     "output_type": "stream",
     "text": [
      "3\n",
      "6\n",
      "6\n",
      "6\n"
     ]
    }
   ],
   "source": [
    "#sum\n",
    "print(sum([1, 2]))\n",
    "print(sum((1, 2, 3)))\n",
    "print(sum([2, 3], 1)) #can take two arguments\n",
    "print(sum((1, 2), 3)) #concatenates the int object"
   ]
  },
  {
   "cell_type": "markdown",
   "metadata": {},
   "source": [
    "The python ascii() function returns a string containing a printable representation of an object and escapes the non-ASCII characters in the string using \\x, \\u or \\U escapes."
   ]
  },
  {
   "cell_type": "code",
   "execution_count": 74,
   "metadata": {},
   "outputs": [
    {
     "name": "stdout",
     "output_type": "stream",
     "text": [
      "'abcd\\xf6'\n",
      "'abc'\n",
      "ö\n"
     ]
    }
   ],
   "source": [
    "#ascii\n",
    "print(ascii(\"abcdö\"))\n",
    "print(ascii(\"abc\"))\n",
    "print(\"\\xf6\")"
   ]
  },
  {
   "cell_type": "markdown",
   "metadata": {},
   "source": [
    "int() returns an expression converted into an integer number."
   ]
  },
  {
   "cell_type": "code",
   "execution_count": 48,
   "metadata": {},
   "outputs": [
    {
     "name": "stdout",
     "output_type": "stream",
     "text": [
      "3\n",
      "4\n",
      "3\n"
     ]
    }
   ],
   "source": [
    "#int\n",
    "print(int(3.999)) #to left side\n",
    "print(int(4.1))\n",
    "print(int('3'))"
   ]
  },
  {
   "cell_type": "markdown",
   "metadata": {},
   "source": [
    "The python float() function returns a floating-point number from a real number or string."
   ]
  },
  {
   "cell_type": "code",
   "execution_count": 3,
   "metadata": {},
   "outputs": [
    {
     "name": "stdout",
     "output_type": "stream",
     "text": [
      "8.1\n",
      "8.1\n",
      "10.0\n",
      "-1.2\n"
     ]
    }
   ],
   "source": [
    "#float\n",
    "print(float(8.1))\n",
    "print(float(\"8.1\"))\n",
    "print(float(10))\n",
    "print(float(\"    -1.2\"))"
   ]
  },
  {
   "cell_type": "markdown",
   "metadata": {},
   "source": [
    "Python complex() function is used to convert numbers or string into a complex number."
   ]
  },
  {
   "cell_type": "code",
   "execution_count": 24,
   "metadata": {},
   "outputs": [
    {
     "name": "stdout",
     "output_type": "stream",
     "text": [
      "(1+2j)\n",
      "(1+0j)\n",
      "0j\n"
     ]
    }
   ],
   "source": [
    "#complex\n",
    "print(complex(1, 2)) #first argument is considered as real and second as imaginary\n",
    "print(complex(1))\n",
    "print(complex())"
   ]
  },
  {
   "cell_type": "markdown",
   "metadata": {},
   "source": [
    "The python format() function returns a formatted representation of the given value. The two parameters are the value and the type(d, f, b, etc.)."
   ]
  },
  {
   "cell_type": "code",
   "execution_count": 5,
   "metadata": {},
   "outputs": [
    {
     "name": "stdout",
     "output_type": "stream",
     "text": [
      "1\n",
      "2.000000\n",
      "111\n",
      "11\n"
     ]
    }
   ],
   "source": [
    "#format\n",
    "print(format(1, \"d\")) #int\n",
    "print(format(2, \"f\")) #float\n",
    "print(format(7, \"b\")) #binary\n",
    "print(format(9, \"o\")) #octal"
   ]
  },
  {
   "cell_type": "markdown",
   "metadata": {},
   "source": [
    "The python frozenset() function returns an immutable frozenset object initialized with elements from the given iterable."
   ]
  },
  {
   "cell_type": "code",
   "execution_count": 8,
   "metadata": {},
   "outputs": [
    {
     "name": "stdout",
     "output_type": "stream",
     "text": [
      "frozenset({1, 2, 3, 'p'})\n"
     ]
    }
   ],
   "source": [
    "#frozenset\n",
    "list1=[1, 2, 3, 'p']\n",
    "print(frozenset(list1))"
   ]
  },
  {
   "cell_type": "markdown",
   "metadata": {},
   "source": [
    "The python getattr() function returns the value of a named attribute of an object. If it is not found, it returns the default value."
   ]
  },
  {
   "cell_type": "code",
   "execution_count": 12,
   "metadata": {},
   "outputs": [
    {
     "name": "stdout",
     "output_type": "stream",
     "text": [
      "19\n",
      "19\n"
     ]
    }
   ],
   "source": [
    "#getattr\n",
    "class p:\n",
    "    name=\"priyanshi\"\n",
    "    age=19\n",
    "details=p()\n",
    "print(getattr(details, \"age\"))\n",
    "print(details.age)"
   ]
  },
  {
   "cell_type": "markdown",
   "metadata": {},
   "source": [
    "The python iter() function is used to return an iterator object. It creates an object which can be iterated one element at a time."
   ]
  },
  {
   "cell_type": "code",
   "execution_count": 16,
   "metadata": {},
   "outputs": [
    {
     "name": "stdout",
     "output_type": "stream",
     "text": [
      "1\n",
      "2\n",
      "3\n"
     ]
    }
   ],
   "source": [
    "#iter\n",
    "list1=[1, 2, 3]\n",
    "list2=iter(list1)\n",
    "print(next(list2)) #next function returns the next item in an iterator\n",
    "print(next(list2))\n",
    "print(next(list2)) #after this iteration will be stopped"
   ]
  },
  {
   "cell_type": "markdown",
   "metadata": {},
   "source": [
    "The python len() function is used to return the length (the number of items) of an object."
   ]
  },
  {
   "cell_type": "code",
   "execution_count": 17,
   "metadata": {},
   "outputs": [
    {
     "name": "stdout",
     "output_type": "stream",
     "text": [
      "3\n"
     ]
    }
   ],
   "source": [
    "#len\n",
    "print(len(list1))"
   ]
  },
  {
   "cell_type": "markdown",
   "metadata": {},
   "source": [
    "The python str() converts a specified value into a string."
   ]
  },
  {
   "cell_type": "code",
   "execution_count": 55,
   "metadata": {},
   "outputs": [
    {
     "name": "stdout",
     "output_type": "stream",
     "text": [
      "12\n"
     ]
    }
   ],
   "source": [
    "#str\n",
    "print(str(12))"
   ]
  },
  {
   "cell_type": "markdown",
   "metadata": {},
   "source": [
    "The python list() creates a list in python."
   ]
  },
  {
   "cell_type": "code",
   "execution_count": 19,
   "metadata": {},
   "outputs": [
    {
     "name": "stdout",
     "output_type": "stream",
     "text": [
      "[1, 2, 3]\n",
      "['a', 'b', 'c']\n"
     ]
    }
   ],
   "source": [
    "#list\n",
    "print(list(list1))\n",
    "st='abc'\n",
    "print(list(st))"
   ]
  },
  {
   "cell_type": "markdown",
   "metadata": {},
   "source": [
    "The python tuple() function is used to create a tuple object."
   ]
  },
  {
   "cell_type": "code",
   "execution_count": 56,
   "metadata": {},
   "outputs": [
    {
     "name": "stdout",
     "output_type": "stream",
     "text": [
      "(1, 2, 3)\n"
     ]
    }
   ],
   "source": [
    "#tuple\n",
    "print(tuple(list1))"
   ]
  },
  {
   "cell_type": "markdown",
   "metadata": {},
   "source": [
    "Python dict() function is a constructor which creates a dictionary."
   ]
  },
  {
   "cell_type": "code",
   "execution_count": 37,
   "metadata": {},
   "outputs": [
    {
     "name": "stdout",
     "output_type": "stream",
     "text": [
      "{}\n",
      "{'a': 1, 'c': 3}\n"
     ]
    }
   ],
   "source": [
    "#dict\n",
    "print(dict()) #creates empty dictionary\n",
    "print(dict(a=1, c=3))"
   ]
  },
  {
   "cell_type": "markdown",
   "metadata": {},
   "source": [
    "set() is used to create a new set using elements passed during the call."
   ]
  },
  {
   "cell_type": "code",
   "execution_count": 43,
   "metadata": {},
   "outputs": [
    {
     "name": "stdout",
     "output_type": "stream",
     "text": [
      "{'a', 'b', 'c'}\n"
     ]
    }
   ],
   "source": [
    "#set\n",
    "print(set('abc'))"
   ]
  },
  {
   "cell_type": "markdown",
   "metadata": {},
   "source": [
    "The python map() function is used to return a list of results after applying a given function to each item of an iterable(list, tuple etc.)."
   ]
  },
  {
   "cell_type": "code",
   "execution_count": 21,
   "metadata": {},
   "outputs": [
    {
     "name": "stdout",
     "output_type": "stream",
     "text": [
      "[2, 4, 6]\n"
     ]
    }
   ],
   "source": [
    "#map\n",
    "def add(n):\n",
    "    return n+n\n",
    "res=map(add, list1) #arguments are function and iterable\n",
    "print(list(res)) #can be printed in form of list, set, etc."
   ]
  },
  {
   "cell_type": "markdown",
   "metadata": {},
   "source": [
    "Python divmod() function is used to get remainder and quotient of two numbers."
   ]
  },
  {
   "cell_type": "code",
   "execution_count": 25,
   "metadata": {},
   "outputs": [
    {
     "name": "stdout",
     "output_type": "stream",
     "text": [
      "(5, 0)\n",
      "(0, 2)\n"
     ]
    }
   ],
   "source": [
    "#divmod\n",
    "print(divmod(10, 2)) #returns a tuple of quotient and remainder\n",
    "print(divmod(2, 10)) #first is divided by second"
   ]
  },
  {
   "cell_type": "markdown",
   "metadata": {},
   "source": [
    "enumerate() function returns an enumerated object. It takes two parameters, first is a sequence of elements and the second is the start index of the sequence. "
   ]
  },
  {
   "cell_type": "code",
   "execution_count": 30,
   "metadata": {},
   "outputs": [
    {
     "name": "stdout",
     "output_type": "stream",
     "text": [
      "[(4, 1), (5, 2), (6, 3)]\n"
     ]
    }
   ],
   "source": [
    "#enumerate\n",
    "a=enumerate([1, 2, 3], 4)\n",
    "print(list(a)) #can be printed using next also"
   ]
  },
  {
   "cell_type": "markdown",
   "metadata": {},
   "source": [
    "Python hash() function is used to get the hash value of an object. Hashable types: * bool * int * long * float * string * Unicode * tuple * code object."
   ]
  },
  {
   "cell_type": "code",
   "execution_count": 38,
   "metadata": {},
   "outputs": [
    {
     "name": "stdout",
     "output_type": "stream",
     "text": [
      "20\n",
      "8881878597332533936\n",
      "230584300921372692\n"
     ]
    }
   ],
   "source": [
    "#hash\n",
    "print(hash(20))\n",
    "print(hash('a'))\n",
    "print(hash(20.1))"
   ]
  },
  {
   "cell_type": "markdown",
   "metadata": {},
   "source": [
    "Python help() function is used to get help related to the object passed during the call. "
   ]
  },
  {
   "cell_type": "code",
   "execution_count": 39,
   "metadata": {},
   "outputs": [
    {
     "name": "stdout",
     "output_type": "stream",
     "text": [
      "\n",
      "Welcome to Python 3.11's help utility!\n",
      "\n",
      "If this is your first time using Python, you should definitely check out\n",
      "the tutorial on the internet at https://docs.python.org/3.11/tutorial/.\n",
      "\n",
      "Enter the name of any module, keyword, or topic to get help on writing\n",
      "Python programs and using Python modules.  To quit this help utility and\n",
      "return to the interpreter, just type \"quit\".\n",
      "\n",
      "To get a list of available modules, keywords, symbols, or topics, type\n",
      "\"modules\", \"keywords\", \"symbols\", or \"topics\".  Each module also comes\n",
      "with a one-line summary of what it does; to list the modules whose name\n",
      "or summary contain a given string such as \"spam\", type \"modules spam\".\n",
      "\n",
      "Help on built-in function hash in module builtins:\n",
      "\n",
      "hash(obj, /)\n",
      "    Return the hash value for the given object.\n",
      "    \n",
      "    Two objects that compare equal must also have the same hash value, but the\n",
      "    reverse is not necessarily true.\n",
      "\n",
      "\n",
      "You are now leaving help and returning to the Python interpreter.\n",
      "If you want to ask for help on a particular object directly from the\n",
      "interpreter, you can type \"help(object)\".  Executing \"help('string')\"\n",
      "has the same effect as typing a particular string at the help> prompt.\n",
      "None\n"
     ]
    }
   ],
   "source": [
    "#help\n",
    "print(help())"
   ]
  },
  {
   "cell_type": "markdown",
   "metadata": {},
   "source": [
    "Python min() function is used to get the smallest element from the collection."
   ]
  },
  {
   "cell_type": "code",
   "execution_count": 41,
   "metadata": {},
   "outputs": [
    {
     "name": "stdout",
     "output_type": "stream",
     "text": [
      "1\n"
     ]
    }
   ],
   "source": [
    "#min\n",
    "print(min([1, 2, 3]))\n",
    "print(min(1, 2, 3))"
   ]
  },
  {
   "cell_type": "markdown",
   "metadata": {},
   "source": [
    "Python max() function is used to get the largest element from the collection."
   ]
  },
  {
   "cell_type": "code",
   "execution_count": 42,
   "metadata": {},
   "outputs": [
    {
     "name": "stdout",
     "output_type": "stream",
     "text": [
      "100\n"
     ]
    }
   ],
   "source": [
    "#max\n",
    "print(max(20, 30, 100))"
   ]
  },
  {
   "cell_type": "markdown",
   "metadata": {},
   "source": [
    "Python id() function returns the identity of an object."
   ]
  },
  {
   "cell_type": "code",
   "execution_count": 49,
   "metadata": {},
   "outputs": [
    {
     "name": "stdout",
     "output_type": "stream",
     "text": [
      "140727222396360\n"
     ]
    }
   ],
   "source": [
    "#id\n",
    "print(id(22))"
   ]
  },
  {
   "cell_type": "markdown",
   "metadata": {},
   "source": [
    "Python sorted() function is used to sort elements. By default, it sorts elements in an ascending order but can be sorted in descending also. In the case of a dictionary, it sorts only keys, not values."
   ]
  },
  {
   "cell_type": "code",
   "execution_count": 53,
   "metadata": {},
   "outputs": [
    {
     "name": "stdout",
     "output_type": "stream",
     "text": [
      "[1, 2, 5]\n",
      "[6, 3, 1]\n"
     ]
    }
   ],
   "source": [
    "#sorted\n",
    "print(sorted([1, 5, 2])) #by default reverse value is False so sorted in ascending\n",
    "print(sorted([1, 6, 3], reverse=True)) #for desceding order"
   ]
  },
  {
   "cell_type": "markdown",
   "metadata": {},
   "source": [
    "The python pow() function is used to compute the power of a number."
   ]
  },
  {
   "cell_type": "code",
   "execution_count": 57,
   "metadata": {},
   "outputs": [
    {
     "name": "stdout",
     "output_type": "stream",
     "text": [
      "8\n"
     ]
    }
   ],
   "source": [
    "#pow\n",
    "print(pow(2, 3))"
   ]
  },
  {
   "cell_type": "markdown",
   "metadata": {},
   "source": [
    "The python reversed() function returns the reversed iterator of the given sequence."
   ]
  },
  {
   "cell_type": "code",
   "execution_count": 61,
   "metadata": {},
   "outputs": [
    {
     "name": "stdout",
     "output_type": "stream",
     "text": [
      "['a', 'v', 'a', 'j']\n",
      "(9, 8, 7, 6, 5, 4, 3, 2, 1, 0)\n"
     ]
    }
   ],
   "source": [
    "#reversed\n",
    "print(list(reversed('java')))\n",
    "print(tuple(reversed(range(10))))"
   ]
  },
  {
   "cell_type": "markdown",
   "metadata": {},
   "source": [
    "The python round() function rounds off the digits of a number."
   ]
  },
  {
   "cell_type": "code",
   "execution_count": 64,
   "metadata": {},
   "outputs": [
    {
     "name": "stdout",
     "output_type": "stream",
     "text": [
      "5\n",
      "4\n",
      "4\n"
     ]
    }
   ],
   "source": [
    "#round\n",
    "print(round(4.9))\n",
    "print(round(4.1))\n",
    "print(round(3.5))"
   ]
  },
  {
   "cell_type": "markdown",
   "metadata": {},
   "source": [
    "The python zip() Function returns a zip object, which maps a similar index of multiple containers."
   ]
  },
  {
   "cell_type": "code",
   "execution_count": 67,
   "metadata": {},
   "outputs": [
    {
     "name": "stdout",
     "output_type": "stream",
     "text": [
      "[(1, 'one', 11), (3, 'three', 111), (6, 'six', 1111)]\n"
     ]
    }
   ],
   "source": [
    "#zip\n",
    "list1=[1, 3, 6]\n",
    "list2=['one', 'three', 'six']\n",
    "list3=[11, 111, 1111]\n",
    "res=zip(list1, list2, list3) #can pass any number of iterables\n",
    "print(list(res))"
   ]
  }
 ],
 "metadata": {
  "kernelspec": {
   "display_name": "Python 3",
   "language": "python",
   "name": "python3"
  },
  "language_info": {
   "codemirror_mode": {
    "name": "ipython",
    "version": 3
   },
   "file_extension": ".py",
   "mimetype": "text/x-python",
   "name": "python",
   "nbconvert_exporter": "python",
   "pygments_lexer": "ipython3",
   "version": "3.11.1"
  },
  "orig_nbformat": 4
 },
 "nbformat": 4,
 "nbformat_minor": 2
}
