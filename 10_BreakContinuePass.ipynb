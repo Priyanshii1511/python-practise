{
 "cells": [
  {
   "cell_type": "markdown",
   "metadata": {},
   "source": [
    "Statements used to control loops and change the course of iteration are called control statements. There are 3 loop control statements: break, continue and pass."
   ]
  },
  {
   "cell_type": "markdown",
   "metadata": {},
   "source": [
    "continue returns the control to the beginning of the loop and skips the remaining statements of the current loop and go to the next iteration."
   ]
  },
  {
   "cell_type": "code",
   "execution_count": 1,
   "metadata": {},
   "outputs": [
    {
     "name": "stdout",
     "output_type": "stream",
     "text": [
      "p\n",
      "r\n",
      "y\n",
      "a\n",
      "n\n",
      "s\n",
      "h\n"
     ]
    }
   ],
   "source": [
    "#continue\n",
    "for s in \"priyanshi\":\n",
    "    if s=='i':\n",
    "        continue\n",
    "    else:\n",
    "        print(s)"
   ]
  },
  {
   "cell_type": "markdown",
   "metadata": {},
   "source": [
    "break stops the execution of the loop when the break statement is reached and the control goes to the next line after the loop."
   ]
  },
  {
   "cell_type": "code",
   "execution_count": 6,
   "metadata": {},
   "outputs": [
    {
     "name": "stdout",
     "output_type": "stream",
     "text": [
      "p\n",
      "r\n",
      "i\n",
      "y\n",
      "a\n"
     ]
    }
   ],
   "source": [
    "#break\n",
    "for s in \"priyanshi\":\n",
    "    if s==\"n\":\n",
    "        break\n",
    "    print(s)"
   ]
  },
  {
   "cell_type": "code",
   "execution_count": 11,
   "metadata": {},
   "outputs": [
    {
     "name": "stdout",
     "output_type": "stream",
     "text": [
      "0 1 2 3 4 5 6 7 8 9 came out of while loop\n"
     ]
    }
   ],
   "source": [
    "i=0 \n",
    "while 1: #True until loop breaks\n",
    "    print(i, end=' ') #end specifies how to end a statement, by default ends with \\n\n",
    "    i=i+1\n",
    "    if i == 10:  \n",
    "        break; #semicolon is optional in python\n",
    "print(\"came out of while loop\");  "
   ]
  },
  {
   "cell_type": "markdown",
   "metadata": {},
   "source": [
    "Pass statements are used to create empty loops. Pass statement is also employed for classes, functions, and empty control statements. It is used when a phrase is necessary syntactically to be placed but not to be executed."
   ]
  },
  {
   "cell_type": "code",
   "execution_count": 4,
   "metadata": {},
   "outputs": [
    {
     "name": "stdout",
     "output_type": "stream",
     "text": [
      "the last letter is i\n"
     ]
    }
   ],
   "source": [
    "for s in \"priyanshi\":\n",
    "    pass\n",
    "print(\"the last letter is\", s)"
   ]
  }
 ],
 "metadata": {
  "kernelspec": {
   "display_name": "Python 3",
   "language": "python",
   "name": "python3"
  },
  "language_info": {
   "codemirror_mode": {
    "name": "ipython",
    "version": 3
   },
   "file_extension": ".py",
   "mimetype": "text/x-python",
   "name": "python",
   "nbconvert_exporter": "python",
   "pygments_lexer": "ipython3",
   "version": "3.11.1"
  },
  "orig_nbformat": 4
 },
 "nbformat": 4,
 "nbformat_minor": 2
}
