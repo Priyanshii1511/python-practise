{
 "cells": [
  {
   "cell_type": "markdown",
   "metadata": {},
   "source": [
    "All the objects produced within the local scope of the loop are deleted when execution is completed."
   ]
  },
  {
   "cell_type": "markdown",
   "metadata": {},
   "source": [
    "Python's for loop is designed to repeatedly execute a code block while iterating through a list, tuple, dictionary, or other iterable objects of Python or over the range function."
   ]
  },
  {
   "cell_type": "code",
   "execution_count": 2,
   "metadata": {},
   "outputs": [
    {
     "name": "stdout",
     "output_type": "stream",
     "text": [
      "[1, 4, 9]\n"
     ]
    }
   ],
   "source": [
    "nums=[1, 2, 3]\n",
    "square=0 #variable to store square\n",
    "squares=[] #empty list\n",
    "\n",
    "for i in nums:\n",
    "    square=i**2\n",
    "    squares.append(square) #adding elements to list\n",
    "print(squares)"
   ]
  },
  {
   "cell_type": "code",
   "execution_count": 3,
   "metadata": {},
   "outputs": [
    {
     "name": "stdout",
     "output_type": "stream",
     "text": [
      "1\n",
      "3\n",
      "above all are the odd numbers\n"
     ]
    }
   ],
   "source": [
    "#else with for loop\n",
    "tup=(1, 2, 3)\n",
    "for i in tup:\n",
    "    if i%2!=0:\n",
    "        print(i)\n",
    "else:\n",
    "    print(\"above all are the odd numbers\")"
   ]
  },
  {
   "cell_type": "markdown",
   "metadata": {},
   "source": [
    "With the help of the range() function, we may produce a series of numbers. We can give specific start, stop, and step size values in the manner range(start, stop, step size)."
   ]
  },
  {
   "cell_type": "markdown",
   "metadata": {},
   "source": [
    "The range is NOT a component of the syntax of for loop. It's a Python built-in method that provides a series that follows a specified pattern (usually serial integers). "
   ]
  },
  {
   "cell_type": "code",
   "execution_count": 6,
   "metadata": {},
   "outputs": [
    {
     "name": "stdout",
     "output_type": "stream",
     "text": [
      "range(0, 10)\n",
      "[0, 1, 2, 3, 4, 5, 6, 7, 8, 9]\n",
      "[1, 3, 5, 7, 9]\n"
     ]
    }
   ],
   "source": [
    "print(range(10))\n",
    "print(list(range(10)))\n",
    "print(list(range(1, 10, 2)))"
   ]
  },
  {
   "cell_type": "markdown",
   "metadata": {},
   "source": [
    "We can use indexing to iterate through the given sequence by combining range() with an iterable's len() function.  which returns the total number of items in that sequence."
   ]
  },
  {
   "cell_type": "code",
   "execution_count": 8,
   "metadata": {},
   "outputs": [
    {
     "name": "stdout",
     "output_type": "stream",
     "text": [
      "0\n",
      "1\n",
      "2\n",
      "5\n",
      "6\n",
      "7\n"
     ]
    }
   ],
   "source": [
    "tup=(5, 6, 7)\n",
    "for i in range(len(tup)):\n",
    "    print(i) #prints the index\n",
    "for i in range(len(tup)):\n",
    "    print(tup[i]) #prints the elements"
   ]
  },
  {
   "cell_type": "code",
   "execution_count": 9,
   "metadata": {},
   "outputs": [
    {
     "name": "stdout",
     "output_type": "stream",
     "text": [
      "match!\n",
      "match!\n",
      "match!\n"
     ]
    }
   ],
   "source": [
    "#nested for loop\n",
    "lis1=[1, 2, 3]\n",
    "lis2=[2, 1, 1]\n",
    "for i in lis1:\n",
    "    for j in lis2:\n",
    "        if i==j:\n",
    "            print(\"match!\")"
   ]
  }
 ],
 "metadata": {
  "kernelspec": {
   "display_name": "Python 3",
   "language": "python",
   "name": "python3"
  },
  "language_info": {
   "codemirror_mode": {
    "name": "ipython",
    "version": 3
   },
   "file_extension": ".py",
   "mimetype": "text/x-python",
   "name": "python",
   "nbconvert_exporter": "python",
   "pygments_lexer": "ipython3",
   "version": "3.11.1"
  },
  "orig_nbformat": 4
 },
 "nbformat": 4,
 "nbformat_minor": 2
}
