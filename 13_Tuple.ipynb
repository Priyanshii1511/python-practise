{
 "cells": [
  {
   "cell_type": "markdown",
   "metadata": {},
   "source": [
    "Tuples are similar to lists but unmutable so we cannot alter the elements once they are assigned."
   ]
  },
  {
   "cell_type": "code",
   "execution_count": 1,
   "metadata": {},
   "outputs": [
    {
     "name": "stdout",
     "output_type": "stream",
     "text": [
      "({1, 2}, [1, 2], (1, 2))\n"
     ]
    }
   ],
   "source": [
    "#empty tuple\n",
    "t1=()\n",
    "\n",
    "#nested tuple\n",
    "t2=({1, 2}, [1, 2], (1, 2))\n",
    "print(t2)"
   ]
  },
  {
   "cell_type": "markdown",
   "metadata": {},
   "source": [
    "Parantheses are not compulsory while creating a tuple."
   ]
  },
  {
   "cell_type": "code",
   "execution_count": 2,
   "metadata": {},
   "outputs": [
    {
     "name": "stdout",
     "output_type": "stream",
     "text": [
      "<class 'tuple'>\n"
     ]
    }
   ],
   "source": [
    "#creating a tuple without parantheses\n",
    "t3=1, 'p', 4.0\n",
    "print(type(t3))"
   ]
  },
  {
   "cell_type": "markdown",
   "metadata": {},
   "source": [
    "Adding a comma is neccesary for a tuple to be recognised as one."
   ]
  },
  {
   "cell_type": "code",
   "execution_count": 3,
   "metadata": {},
   "outputs": [
    {
     "name": "stdout",
     "output_type": "stream",
     "text": [
      "<class 'str'>\n",
      "<class 'int'>\n",
      "<class 'tuple'>\n"
     ]
    }
   ],
   "source": [
    "#creating a single element tuple\n",
    "t4=(\"2\") \n",
    "t5=(1)\n",
    "t6=(\"1\",)\n",
    "print(type(t4))\n",
    "print(type(t5))\n",
    "print(type(t6))"
   ]
  },
  {
   "cell_type": "markdown",
   "metadata": {},
   "source": [
    "Tuple elements can also be accessed using indexing and slicing."
   ]
  },
  {
   "cell_type": "code",
   "execution_count": 7,
   "metadata": {},
   "outputs": [
    {
     "name": "stdout",
     "output_type": "stream",
     "text": [
      "2\n",
      "6\n",
      "(3, 4, 5)\n",
      "6\n"
     ]
    }
   ],
   "source": [
    "#Indexing\n",
    "tup1=(1, 2, 3)\n",
    "print(tup1[1])\n",
    "\n",
    "#accessing elements of a nested tuple\n",
    "tup2=((1, 2), (3, 4, 5), [6, 7, 8, 9])\n",
    "print(tup2[2][0])\n",
    "\n",
    "#negative indexing\n",
    "print(tup2[-2])\n",
    "print(tup2[-1][0])"
   ]
  },
  {
   "cell_type": "code",
   "execution_count": 13,
   "metadata": {},
   "outputs": [
    {
     "name": "stdout",
     "output_type": "stream",
     "text": [
      "(2, 3)\n",
      "(3, 4, 5)\n",
      "[6, 7, 8, 9]\n"
     ]
    }
   ],
   "source": [
    "#Slicing is same as in lists and strings\n",
    "print(tup1[1:3])\n",
    "\n",
    "print(tup2[1:3][0]) #0th index among the sliced \n",
    "print(tup2[1:3][1])"
   ]
  },
  {
   "cell_type": "markdown",
   "metadata": {},
   "source": [
    "Elements from tuple cannot be deleted but a complete tuple can be deleted."
   ]
  },
  {
   "cell_type": "code",
   "execution_count": 15,
   "metadata": {},
   "outputs": [],
   "source": [
    "#deletion \n",
    "tup3=(1, 2)\n",
    "del tup3 #tuple is deleted"
   ]
  },
  {
   "cell_type": "markdown",
   "metadata": {},
   "source": [
    "The altereffects of + and * are new tuples and the original tuples are not changed."
   ]
  },
  {
   "cell_type": "code",
   "execution_count": 16,
   "metadata": {},
   "outputs": [
    {
     "name": "stdout",
     "output_type": "stream",
     "text": [
      "(1, 'p', 4.0, 1, 'p', 4.0)\n",
      "(1, 'p', 4.0, 1, 'p', 4.0, 1, 'p', 4.0, 1, 'p', 4.0)\n"
     ]
    }
   ],
   "source": [
    "#repetition and concatenation\n",
    "t=(1, 2, 3)\n",
    "print(t3+t3)\n",
    "print(t3*4)"
   ]
  },
  {
   "cell_type": "code",
   "execution_count": 17,
   "metadata": {},
   "outputs": [
    {
     "data": {
      "text/plain": [
       "1"
      ]
     },
     "execution_count": 17,
     "metadata": {},
     "output_type": "execute_result"
    }
   ],
   "source": [
    "#count() method counts the number of times an item occurs in a tuple\n",
    "t.count(1)"
   ]
  },
  {
   "cell_type": "code",
   "execution_count": 25,
   "metadata": {},
   "outputs": [
    {
     "name": "stdout",
     "output_type": "stream",
     "text": [
      "1\n",
      "4\n"
     ]
    }
   ],
   "source": [
    "#index() method returns the first instance of an element\n",
    "tupl=(10, 20, 30, 10, 20, 50)\n",
    "print(tupl.index(20)) \n",
    "#index has an optional parameter start from where the search starts\n",
    "print(tupl.index(20, 4)) "
   ]
  },
  {
   "cell_type": "code",
   "execution_count": 27,
   "metadata": {},
   "outputs": [
    {
     "name": "stdout",
     "output_type": "stream",
     "text": [
      "True\n",
      "False\n"
     ]
    }
   ],
   "source": [
    "#membership\n",
    "print(10 in tupl)\n",
    "print(100 in tupl)"
   ]
  },
  {
   "cell_type": "code",
   "execution_count": 28,
   "metadata": {},
   "outputs": [
    {
     "name": "stdout",
     "output_type": "stream",
     "text": [
      "20\n",
      "40\n",
      "60\n",
      "20\n",
      "40\n",
      "100\n"
     ]
    }
   ],
   "source": [
    "#iterating in a tuple\n",
    "for i in tupl:\n",
    "    print(i*2)"
   ]
  },
  {
   "cell_type": "markdown",
   "metadata": {},
   "source": [
    "If a tuple is nested then the nested elements can be changed if they are a mutable data type like list."
   ]
  },
  {
   "cell_type": "code",
   "execution_count": 30,
   "metadata": {},
   "outputs": [
    {
     "name": "stdout",
     "output_type": "stream",
     "text": [
      "((1, 2, 3), [100, 6, 7])\n",
      "(100, 200)\n"
     ]
    }
   ],
   "source": [
    "nest=((1, 2, 3), [5, 6, 7])\n",
    "nest[1][0]=100\n",
    "print(nest)\n",
    "\n",
    "#changing the whole tuple\n",
    "nest=(100, 200)\n",
    "print(nest)"
   ]
  },
  {
   "cell_type": "markdown",
   "metadata": {},
   "source": [
    "Tuples should be used for storing non-changing information so accidental modifications could be avoided. A tuple can also be used as dictionary key because it is not mutable."
   ]
  },
  {
   "cell_type": "markdown",
   "metadata": {},
   "source": [
    "The tuples have less memory than the list because python allocates bigger chunks of memory to tuple due to its immutable nature. So they are more memory efficient than lists."
   ]
  },
  {
   "cell_type": "code",
   "execution_count": 32,
   "metadata": {},
   "outputs": [
    {
     "name": "stdout",
     "output_type": "stream",
     "text": [
      "48\n",
      "72\n"
     ]
    }
   ],
   "source": [
    "tuple1=(1, 2, 3)\n",
    "list1=[1, 2, 3]\n",
    "print(tuple1.__sizeof__())\n",
    "print(list1.__sizeof__())"
   ]
  },
  {
   "cell_type": "markdown",
   "metadata": {},
   "source": [
    "Tuples have lesser built-in functions than list. To know them dir() can be used."
   ]
  },
  {
   "cell_type": "code",
   "execution_count": 34,
   "metadata": {},
   "outputs": [
    {
     "data": {
      "text/plain": [
       "['__add__',\n",
       " '__class__',\n",
       " '__class_getitem__',\n",
       " '__contains__',\n",
       " '__delattr__',\n",
       " '__dir__',\n",
       " '__doc__',\n",
       " '__eq__',\n",
       " '__format__',\n",
       " '__ge__',\n",
       " '__getattribute__',\n",
       " '__getitem__',\n",
       " '__getnewargs__',\n",
       " '__getstate__',\n",
       " '__gt__',\n",
       " '__hash__',\n",
       " '__init__',\n",
       " '__init_subclass__',\n",
       " '__iter__',\n",
       " '__le__',\n",
       " '__len__',\n",
       " '__lt__',\n",
       " '__mul__',\n",
       " '__ne__',\n",
       " '__new__',\n",
       " '__reduce__',\n",
       " '__reduce_ex__',\n",
       " '__repr__',\n",
       " '__rmul__',\n",
       " '__setattr__',\n",
       " '__sizeof__',\n",
       " '__str__',\n",
       " '__subclasshook__',\n",
       " 'count',\n",
       " 'index']"
      ]
     },
     "execution_count": 34,
     "metadata": {},
     "output_type": "execute_result"
    }
   ],
   "source": [
    "dir(tuple1)"
   ]
  }
 ],
 "metadata": {
  "kernelspec": {
   "display_name": "Python 3",
   "language": "python",
   "name": "python3"
  },
  "language_info": {
   "codemirror_mode": {
    "name": "ipython",
    "version": 3
   },
   "file_extension": ".py",
   "mimetype": "text/x-python",
   "name": "python",
   "nbconvert_exporter": "python",
   "pygments_lexer": "ipython3",
   "version": "3.11.1"
  },
  "orig_nbformat": 4
 },
 "nbformat": 4,
 "nbformat_minor": 2
}
