{
 "cells": [
  {
   "cell_type": "markdown",
   "metadata": {},
   "source": [
    "Lists written in Python are identical to dynamically scaled arrays defined in other languages, such as Array List in Java and Vector in C++."
   ]
  },
  {
   "cell_type": "markdown",
   "metadata": {},
   "source": [
    "The indexing procedure is carried out similarly to string processing."
   ]
  },
  {
   "cell_type": "code",
   "execution_count": 24,
   "metadata": {},
   "outputs": [
    {
     "name": "stdout",
     "output_type": "stream",
     "text": [
      "2\n",
      "['a', 'b', 'c', 1, 2, 3]\n",
      "['a', 'b', 'c', 1, 2, 3]\n",
      "['a', 'b', 'c', 1, 2]\n",
      "['c', 1]\n",
      "['b', 1]\n"
     ]
    }
   ],
   "source": [
    "#Slicing in List\n",
    "l=['a', 'b', 'c', 1, 2, 3]\n",
    "print(l[4]) #4th index element\n",
    "print(l[0:]) #full list\n",
    "print(l[:]) #full list\n",
    "print(l[:5]) #from 0th to 4th\n",
    "print(l[2:4]) #2nd to 3rd\n",
    "print(l[1:5:2]) #with step 2 (default value is 1)"
   ]
  },
  {
   "cell_type": "code",
   "execution_count": 25,
   "metadata": {},
   "outputs": [
    {
     "name": "stdout",
     "output_type": "stream",
     "text": [
      "3\n",
      "[1, 2, 3]\n",
      "['a', 'b', 'c', 1, 2]\n",
      "[1, 2]\n"
     ]
    }
   ],
   "source": [
    "#Negative Indexing\n",
    "print(l[-1]) #last element\n",
    "print(l[-3:]) #from last 3rd to last\n",
    "print(l[:-1]) #till -2\n",
    "print(l[-3:-1]) #-3 to -2"
   ]
  },
  {
   "cell_type": "markdown",
   "metadata": {},
   "source": [
    "Due to their mutability and the slice and assignment operator's ability to update their values, lists are Python's most adaptable data structure."
   ]
  },
  {
   "cell_type": "code",
   "execution_count": 26,
   "metadata": {},
   "outputs": [
    {
     "name": "stdout",
     "output_type": "stream",
     "text": [
      "[10, 'b', 'c', 1, 2, 3]\n",
      "[10, 'b', 'c', 1, 2, 0]\n",
      "[10, 9, 8, 1, 2, 0]\n"
     ]
    }
   ],
   "source": [
    "#Updating values in list\n",
    "l[0]=10\n",
    "print(l)\n",
    "l[-1]=0\n",
    "print(l)\n",
    "\n",
    "#adding multiple elements\n",
    "l[1:3]=[9, 8]\n",
    "print(l)"
   ]
  },
  {
   "cell_type": "code",
   "execution_count": 27,
   "metadata": {},
   "outputs": [
    {
     "name": "stdout",
     "output_type": "stream",
     "text": [
      "[10, 9, 8, 1, 2, 0, 200]\n",
      "[10, 9, 8, 1, 2, 0, 100, 200]\n"
     ]
    }
   ],
   "source": [
    "#insert() and append() methods also add values to list\n",
    "l.append(200) #appends at the end\n",
    "print(l)\n",
    "\n",
    "l.insert(6, 100) #inserts at the index given\n",
    "print(l)"
   ]
  },
  {
   "cell_type": "code",
   "execution_count": 35,
   "metadata": {},
   "outputs": [
    {
     "name": "stdout",
     "output_type": "stream",
     "text": [
      "[1, 2]\n",
      "[1]\n"
     ]
    }
   ],
   "source": [
    "#del keyword and remove() method to delete elements from list\n",
    "l1=[1, 2, 3]\n",
    "\n",
    "del(l1[2]) #deletes through index\n",
    "print(l1)\n",
    "\n",
    "l1.remove(2) #deletes the element when we don't know where is our element \n",
    "print(l1)"
   ]
  },
  {
   "cell_type": "markdown",
   "metadata": {},
   "source": [
    "Different operations can be performed on list such as : Repetition, Concatenation, Length, Iteration, Membership"
   ]
  },
  {
   "cell_type": "code",
   "execution_count": 37,
   "metadata": {},
   "outputs": [
    {
     "name": "stdout",
     "output_type": "stream",
     "text": [
      "[1, 2, 3, 1, 2, 3, 1, 2, 3, 1, 2, 3]\n",
      "[1, 2, 3, 1, 2, 3]\n"
     ]
    }
   ],
   "source": [
    "#repetition and concatenation are same as strings\n",
    "l2=[1, 2, 3]\n",
    "print(l2*4) #repetition\n",
    "print(l2+l2) #concatenation"
   ]
  },
  {
   "cell_type": "code",
   "execution_count": 38,
   "metadata": {},
   "outputs": [
    {
     "name": "stdout",
     "output_type": "stream",
     "text": [
      "3\n"
     ]
    }
   ],
   "source": [
    "#to get the length of the list\n",
    "print(len(l2))"
   ]
  },
  {
   "cell_type": "code",
   "execution_count": 39,
   "metadata": {},
   "outputs": [
    {
     "name": "stdout",
     "output_type": "stream",
     "text": [
      "2\n",
      "3\n",
      "4\n"
     ]
    }
   ],
   "source": [
    "#for loop can be used to iterate over the list\n",
    "for i in l2:\n",
    "    print(i+1)"
   ]
  },
  {
   "cell_type": "code",
   "execution_count": 40,
   "metadata": {},
   "outputs": [
    {
     "name": "stdout",
     "output_type": "stream",
     "text": [
      "True\n"
     ]
    }
   ],
   "source": [
    "#to check membership\n",
    "print(2 in l2)"
   ]
  },
  {
   "cell_type": "code",
   "execution_count": 43,
   "metadata": {},
   "outputs": [
    {
     "name": "stdout",
     "output_type": "stream",
     "text": [
      "Printing the elements: \n",
      "a b c d e "
     ]
    }
   ],
   "source": [
    "#Taking input in the list\n",
    "l3=[] #declaring the list\n",
    "n=int(input(\"Enter number of elements: \"))\n",
    "for i in range(n):\n",
    "    l3.append(input(\"Enter the element: \"))\n",
    "print(\"Printing the elements: \")\n",
    "for i in l3:\n",
    "    print(i, end=\" \") #since by default it ends with new line"
   ]
  },
  {
   "cell_type": "code",
   "execution_count": 44,
   "metadata": {},
   "outputs": [
    {
     "name": "stdout",
     "output_type": "stream",
     "text": [
      "30\n",
      "10\n"
     ]
    }
   ],
   "source": [
    "#max and min\n",
    "l4=[10, 20, 30]\n",
    "print(max(l4))\n",
    "print(min(l4))"
   ]
  },
  {
   "cell_type": "code",
   "execution_count": 45,
   "metadata": {},
   "outputs": [
    {
     "name": "stdout",
     "output_type": "stream",
     "text": [
      "[1, 2, 7, 4, 10]\n"
     ]
    }
   ],
   "source": [
    "#Create a program to eliminate the List's duplicate items\n",
    "list1=[1, 2, 2, 7, 4, 7, 10, 2]\n",
    "list2=[] #to store unique items\n",
    "for i in list1:\n",
    "    if i not in list2:\n",
    "        list2.append(i)\n",
    "print(list2)"
   ]
  }
 ],
 "metadata": {
  "kernelspec": {
   "display_name": "Python 3",
   "language": "python",
   "name": "python3"
  },
  "language_info": {
   "codemirror_mode": {
    "name": "ipython",
    "version": 3
   },
   "file_extension": ".py",
   "mimetype": "text/x-python",
   "name": "python",
   "nbconvert_exporter": "python",
   "pygments_lexer": "ipython3",
   "version": "3.11.1"
  },
  "orig_nbformat": 4
 },
 "nbformat": 4,
 "nbformat_minor": 2
}
