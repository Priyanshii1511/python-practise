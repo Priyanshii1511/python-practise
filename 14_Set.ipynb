{
 "cells": [
  {
   "cell_type": "markdown",
   "metadata": {},
   "source": [
    "A Python set is the collection of the unordered (no index) and unique items. Set is mutable (items can be added or removed)."
   ]
  },
  {
   "cell_type": "code",
   "execution_count": 1,
   "metadata": {},
   "outputs": [
    {
     "name": "stdout",
     "output_type": "stream",
     "text": [
      "<class 'set'>\n",
      "<class 'set'>\n"
     ]
    }
   ],
   "source": [
    "#creating a set\n",
    "set1={1, 2, 3}\n",
    "print(type(set1))\n",
    "set2=set([1, 2, 3]) #through set() method\n",
    "print(type(set2))"
   ]
  },
  {
   "cell_type": "markdown",
   "metadata": {},
   "source": [
    "A set can contain any data type but cannot contain any mutable element like list, dictionary and set because every element of set is immutable."
   ]
  },
  {
   "cell_type": "code",
   "execution_count": 2,
   "metadata": {},
   "outputs": [
    {
     "name": "stdout",
     "output_type": "stream",
     "text": [
      "<class 'dict'>\n",
      "<class 'set'>\n"
     ]
    }
   ],
   "source": [
    "#creating an empty set\n",
    "s1={} #will create a dictionary\n",
    "print(type(s1))\n",
    "s2=set() #creates an empty set\n",
    "print(type(s2))"
   ]
  },
  {
   "cell_type": "code",
   "execution_count": 3,
   "metadata": {},
   "outputs": [
    {
     "name": "stdout",
     "output_type": "stream",
     "text": [
      "{1, 2, 3, 4}\n"
     ]
    }
   ],
   "source": [
    "#if we create a set with duplicate elements\n",
    "s3={1, 2, 2, 3, 4, 4, 3, 1}\n",
    "print(s3) #set removes duplicity"
   ]
  },
  {
   "cell_type": "code",
   "execution_count": 12,
   "metadata": {},
   "outputs": [
    {
     "name": "stdout",
     "output_type": "stream",
     "text": [
      "{40, 10, 20, '30'}\n",
      "{40, 10, 50, 20, '30', 60}\n"
     ]
    }
   ],
   "source": [
    "#adding items to set\n",
    "p={10, 20, '30',}\n",
    "p.add(40) #adds single element to the set\n",
    "print(p)\n",
    "\n",
    "p.update((50, 60)) #adds multiple elements to the set and takes any iterable as argument\n",
    "print(p)"
   ]
  },
  {
   "cell_type": "markdown",
   "metadata": {},
   "source": [
    "Using discard() function for removing an item, if the item does not exist in the set then the set remains unchanged whereas remove() method will throw an error."
   ]
  },
  {
   "cell_type": "code",
   "execution_count": 13,
   "metadata": {},
   "outputs": [
    {
     "name": "stdout",
     "output_type": "stream",
     "text": [
      "{40, 50, 20, '30', 60}\n",
      "{50, 20, '30', 60}\n"
     ]
    }
   ],
   "source": [
    "#deleting set items\n",
    "p.discard(100)\n",
    "p.remove(10)\n",
    "print(p)\n",
    "\n",
    "p.pop() #pop will remove the top element but set in unordered so we cannot know which element will be removed\n",
    "print(p)"
   ]
  },
  {
   "cell_type": "code",
   "execution_count": 14,
   "metadata": {},
   "outputs": [
    {
     "name": "stdout",
     "output_type": "stream",
     "text": [
      "set()\n"
     ]
    }
   ],
   "source": [
    "#to delete all elements of set\n",
    "p.clear()\n",
    "print(p)"
   ]
  },
  {
   "cell_type": "markdown",
   "metadata": {},
   "source": [
    "Set can perform mathematical operations such as union, intersection, difference, and symmetric difference."
   ]
  },
  {
   "cell_type": "code",
   "execution_count": 17,
   "metadata": {},
   "outputs": [
    {
     "name": "stdout",
     "output_type": "stream",
     "text": [
      "{200, 100, 300}\n",
      "{200, 100, 300}\n",
      "{1, 2, 100, 200, 300}\n"
     ]
    }
   ],
   "source": [
    "#union\n",
    "p1={100, 200}\n",
    "p2={200, 300}\n",
    "print(p1|p2) #union or OR operator returns a new set\n",
    "\n",
    "print(p1.union(p2)) #using union method \n",
    "\n",
    "p3={1, 2, 200} #for more than two sets\n",
    "print(p3.union(p1, p2))"
   ]
  },
  {
   "cell_type": "code",
   "execution_count": 19,
   "metadata": {},
   "outputs": [
    {
     "name": "stdout",
     "output_type": "stream",
     "text": [
      "{200}\n",
      "{200}\n"
     ]
    }
   ],
   "source": [
    "#intersection\n",
    "print(p1&p2) #intersection or AND operator returns a new set\n",
    "\n",
    "print(p1.intersection(p2, p3)) #using intersection method"
   ]
  },
  {
   "cell_type": "code",
   "execution_count": 20,
   "metadata": {},
   "outputs": [
    {
     "name": "stdout",
     "output_type": "stream",
     "text": [
      "{200}\n"
     ]
    }
   ],
   "source": [
    "#intersection_update method removes items which are not present in all sets\n",
    "p1.intersection_update(p2, p3)\n",
    "print(p1) #it does not create a new set but modifies the original one"
   ]
  },
  {
   "cell_type": "code",
   "execution_count": 22,
   "metadata": {},
   "outputs": [
    {
     "name": "stdout",
     "output_type": "stream",
     "text": [
      "{300}\n",
      "{300}\n"
     ]
    }
   ],
   "source": [
    "#set difference\n",
    "print(p2-p3) #difference operator\n",
    "print(p2.difference(p3)) #method\n",
    "#difference_update is also there"
   ]
  },
  {
   "cell_type": "code",
   "execution_count": 23,
   "metadata": {},
   "outputs": [
    {
     "name": "stdout",
     "output_type": "stream",
     "text": [
      "{1, 2, 300}\n",
      "{1, 2, 300}\n"
     ]
    }
   ],
   "source": [
    "#symmetric difference\n",
    "print(p2^p3) #xor operator\n",
    "print(p2.symmetric_difference(p3))"
   ]
  },
  {
   "cell_type": "code",
   "execution_count": 24,
   "metadata": {},
   "outputs": [
    {
     "name": "stdout",
     "output_type": "stream",
     "text": [
      "{1, 2, 300}\n"
     ]
    }
   ],
   "source": [
    "p2.symmetric_difference_update(p3)\n",
    "print(p2)"
   ]
  },
  {
   "cell_type": "code",
   "execution_count": 28,
   "metadata": {},
   "outputs": [
    {
     "name": "stdout",
     "output_type": "stream",
     "text": [
      "True\n",
      "False\n",
      "False\n",
      "True\n",
      "False\n",
      "True\n"
     ]
    }
   ],
   "source": [
    "#Set comparisons\n",
    "a={1, 2, 3, 4}\n",
    "b={2, 3, 4, 1}\n",
    "\n",
    "print(a==b) #if they are equal regardless of order\n",
    "print(a!=b) #if they are unequal\n",
    "print(a<b) #if left set is proper subset of right one\n",
    "print(a<=b) #if left set is subset of right one\n",
    "print(a>b)\n",
    "print(a>=b)"
   ]
  },
  {
   "cell_type": "markdown",
   "metadata": {},
   "source": [
    "A frozen set is an immutable version of the built-in set data type. It is similar to a set, but its contents cannot be changed once a frozen set is created (elements cannot be added or removed)."
   ]
  },
  {
   "cell_type": "markdown",
   "metadata": {},
   "source": [
    "Frozen sets can be used as elements of other sets and dictionary keys but standard sets cannot."
   ]
  },
  {
   "cell_type": "code",
   "execution_count": 29,
   "metadata": {},
   "outputs": [
    {
     "name": "stdout",
     "output_type": "stream",
     "text": [
      "<class 'frozenset'>\n"
     ]
    }
   ],
   "source": [
    "#creating a frozenset\n",
    "fset=frozenset([1, 2, 3])\n",
    "print(type(fset))"
   ]
  },
  {
   "cell_type": "code",
   "execution_count": 30,
   "metadata": {},
   "outputs": [
    {
     "name": "stdout",
     "output_type": "stream",
     "text": [
      "frozenset({'Name', 'Country', 'ID'})\n"
     ]
    }
   ],
   "source": [
    "Frozenset = frozenset({\"Name\":\"John\", \"Country\":\"USA\", \"ID\":101}) #passing dictionary \n",
    "print(Frozenset) #it will only print dictionary keys "
   ]
  }
 ],
 "metadata": {
  "kernelspec": {
   "display_name": "Python 3",
   "language": "python",
   "name": "python3"
  },
  "language_info": {
   "codemirror_mode": {
    "name": "ipython",
    "version": 3
   },
   "file_extension": ".py",
   "mimetype": "text/x-python",
   "name": "python",
   "nbconvert_exporter": "python",
   "pygments_lexer": "ipython3",
   "version": "3.11.1"
  },
  "orig_nbformat": 4
 },
 "nbformat": 4,
 "nbformat_minor": 2
}
