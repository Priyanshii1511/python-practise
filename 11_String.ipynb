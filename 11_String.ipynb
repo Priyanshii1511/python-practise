{
 "cells": [
  {
   "cell_type": "markdown",
   "metadata": {},
   "source": [
    "Python doesn't support the character data-type; instead, a single character is treated as the string of length 1."
   ]
  },
  {
   "cell_type": "code",
   "execution_count": 3,
   "metadata": {},
   "outputs": [
    {
     "name": "stdout",
     "output_type": "stream",
     "text": [
      "<class 'str'>\n"
     ]
    }
   ],
   "source": [
    "print(type('p'))"
   ]
  },
  {
   "cell_type": "markdown",
   "metadata": {},
   "source": [
    "Strings can be represented using single, double or triple quotes."
   ]
  },
  {
   "cell_type": "code",
   "execution_count": 7,
   "metadata": {},
   "outputs": [
    {
     "name": "stdout",
     "output_type": "stream",
     "text": [
      "Triple quotes are generally used for  \n",
      "representing the multiline or \n",
      "docstring\n"
     ]
    }
   ],
   "source": [
    "str1='''Triple quotes are generally used for  \n",
    "representing the multiline or \n",
    "docstring'''   \n",
    "print(str1)  "
   ]
  },
  {
   "cell_type": "markdown",
   "metadata": {},
   "source": [
    "Indexing starts from 0 to n-1."
   ]
  },
  {
   "cell_type": "code",
   "execution_count": 13,
   "metadata": {},
   "outputs": [
    {
     "name": "stdout",
     "output_type": "stream",
     "text": [
      "p\n",
      "ri\n",
      "ry\n",
      "priyanshi\n",
      "pri\n"
     ]
    }
   ],
   "source": [
    "#Indexing and Spliting\n",
    "p='priyanshi'\n",
    "print(p[0]) #slice operator to access substrings\n",
    "print(p[1:3]) #upper range is always exclusive\n",
    "print(p[1:5:2]) #here the step is 2\n",
    "print(p[0:]) #print from 0th index to end\n",
    "print(p[:3]) #print from 0th to 2nd index"
   ]
  },
  {
   "cell_type": "markdown",
   "metadata": {},
   "source": [
    "In negative slicing, rightmost character has index -1."
   ]
  },
  {
   "cell_type": "code",
   "execution_count": 24,
   "metadata": {},
   "outputs": [
    {
     "name": "stdout",
     "output_type": "stream",
     "text": [
      "c\n",
      "ac\n",
      "ia\n",
      "ai\n",
      "\n",
      "wach\n",
      "hcawis\n"
     ]
    }
   ],
   "source": [
    "#Negative slicing\n",
    "s='siwach'\n",
    "print(s[-2]) #prints second from right\n",
    "print(s[-3:-1]) #prints from 3rd from right to 2nd from right\n",
    "print(s[-5:-1:2]) #step is 2\n",
    "print(s[-3:-6:-2]) #when step is negative it prints in reverse order\n",
    "print(s[-3:-6:2]) #prints nothing because step is from left to right but start and end are in reverse\n",
    "print(s[-4:]) #prints from -4 upto end\n",
    "print(s[::-1]) #reverse the whole string"
   ]
  },
  {
   "cell_type": "markdown",
   "metadata": {},
   "source": [
    "The string object doesn't support item assignment i.e., A string can only be replaced with new string since its content cannot be partially replaced. Strings are immutable in Python."
   ]
  },
  {
   "cell_type": "code",
   "execution_count": 28,
   "metadata": {},
   "outputs": [
    {
     "name": "stdout",
     "output_type": "stream",
     "text": [
      "hello\n"
     ]
    }
   ],
   "source": [
    "#Reassigning strings\n",
    "str1='Hello'\n",
    "#str1[0]='h' will show type error due to item assignment\n",
    "str1='hello' \n",
    "print(str1) #string will be updated"
   ]
  },
  {
   "cell_type": "markdown",
   "metadata": {},
   "source": [
    "We cannot delete or remove the characters from the string. But we can delete the entire string using the del keyword."
   ]
  },
  {
   "cell_type": "code",
   "execution_count": 33,
   "metadata": {},
   "outputs": [],
   "source": [
    "#Deleting strings\n",
    "str2='hiiii'\n",
    "#del str2[1] will show type error\n",
    "del str2 #string is deleted"
   ]
  },
  {
   "cell_type": "markdown",
   "metadata": {},
   "source": [
    "Python raw string treats the backslash character \\ as a literal character. Raw string is useful when a string needs to contain a backslash, such as for a regular expression or Windows directory path, and you don’t want it to be treated as an escape character."
   ]
  },
  {
   "cell_type": "code",
   "execution_count": 47,
   "metadata": {},
   "outputs": [
    {
     "name": "stdout",
     "output_type": "stream",
     "text": [
      "ComputerScience\n",
      "ComputerComputerComputer\n",
      "t\n",
      "op\n",
      "True\n",
      "False\n",
      "c\tp\n",
      "c\\tp\n",
      "The string is Science\n"
     ]
    }
   ],
   "source": [
    "#String Operators\n",
    "s1='Computer'\n",
    "s2='Science'\n",
    "print(s1+s2) #concatentation operator\n",
    "print(s1*3) #repetition operator\n",
    "print(s1[5]) #slice operator\n",
    "print(s1[1:5:2]) #range slice operator\n",
    "print('o' in s1) #membership operator\n",
    "print('m' not in s1) #reverse of in\n",
    "print('c\\tp') #inserts a tab because it is not raw string\n",
    "print(r'c\\tp') #r/R operator to define raw strings\n",
    "print(\"The string is %s\" %(s2)) #% performs string formatting with use of format specifiers used in C"
   ]
  },
  {
   "cell_type": "markdown",
   "metadata": {},
   "source": [
    "A statement will raise SyntaxError if it contains more than one single or double-quotes e.g. \"They said, \"Hello what's going on?\"\" so escape sequences are used (triple quotes can also be used)."
   ]
  },
  {
   "cell_type": "code",
   "execution_count": 11,
   "metadata": {},
   "outputs": [
    {
     "name": "stdout",
     "output_type": "stream",
     "text": [
      "They said, \"Hello what's going on?\"\n",
      "They said, \"Hello what's going on?\"\n",
      "pst\n",
      "\\\n",
      "'\n",
      "\"\n",
      "\u0007\n",
      "hell there\n",
      "hello\f there\n",
      "hello\n",
      "there\n",
      "world\n",
      "ha\tha\n",
      "ha\u000bha\n",
      "A\n",
      "A\n"
     ]
    }
   ],
   "source": [
    "#Escape Sequence\n",
    "print('''They said, \"Hello what's going on?\"''') #using triple quotes\n",
    "print(\"They said, \\\"Hello what's going on?\\\"\" ) #escaping the quotes by using backslash\n",
    "print(\"p\\\n",
    "s\\\n",
    "t\") #\\ ignores the newline\n",
    "print(\"\\\\\") #prints backslash\n",
    "print(\"\\'\") #prints single quote\n",
    "print(\"\\\"\") #prints double quote\n",
    "print(\"\\a\") #ascii bell\n",
    "print(\"hello\\b there\") #backspace\n",
    "print(\"hello\\f there\") #formfeed or next page\n",
    "print(\"hello\\nthere\") #linefeed or newline\n",
    "print(\"hello\\rworld\") #carriage return goes to the start of line\n",
    "print(\"ha\\tha\") #horizontal tab\n",
    "print(\"ha\\vha\") #vertical tab\n",
    "print(\"\\101\") #prints ascii value of the octal number \\ooo\n",
    "print(\"\\x41\") #prints ascii value of the hexadecimal number \\xHH"
   ]
  },
  {
   "cell_type": "markdown",
   "metadata": {},
   "source": [
    "The curly braces {} are used as the placeholder in the string and replaced by the format() method argument."
   ]
  },
  {
   "cell_type": "code",
   "execution_count": 16,
   "metadata": {},
   "outputs": [
    {
     "name": "stdout",
     "output_type": "stream",
     "text": [
      "Anjali and Priyanshi are best friends.\n",
      "Priyanshi and Anjali are best friends.\n",
      "Karan and Kashika both are good persons.\n"
     ]
    }
   ],
   "source": [
    "#String Formatting\n",
    "#using format() method\n",
    "print(\"{} and {} are best friends.\".format(\"Anjali\", \"Priyanshi\"))\n",
    "print(\"{1} and {0} are best friends.\".format(\"Anjali\", \"Priyanshi\")) #Positional Arguments\n",
    "print(\"{a} and {b} both are good persons.\".format(b=\"Kashika\", a=\"Karan\")) #Keyword Arguments"
   ]
  },
  {
   "cell_type": "markdown",
   "metadata": {},
   "source": [
    "An additional operator %  is used as an interface between the format specifiers and their values, it binds the format specifiers to the values."
   ]
  },
  {
   "cell_type": "code",
   "execution_count": 20,
   "metadata": {},
   "outputs": [
    {
     "name": "stdout",
     "output_type": "stream",
     "text": [
      "10 is an Integer, 10.1 is a Float and ten is a String.\n",
      "1 is integer and 1.100000 is float.\n"
     ]
    }
   ],
   "source": [
    "#using format specifiers\n",
    "a=\"Integer\"\n",
    "b=\"Float\"\n",
    "c=\"String\"\n",
    "print(\"10 is an %s, 10.1 is a %s and ten is a %s.\"%(a, b, c))\n",
    "d=1\n",
    "e=1.1\n",
    "print(\"%d is integer and %f is float.\"%(d, e))"
   ]
  },
  {
   "cell_type": "markdown",
   "metadata": {},
   "source": [
    "Python provides various in-built functions that are used for string handling."
   ]
  }
 ],
 "metadata": {
  "kernelspec": {
   "display_name": "Python 3",
   "language": "python",
   "name": "python3"
  },
  "language_info": {
   "codemirror_mode": {
    "name": "ipython",
    "version": 3
   },
   "file_extension": ".py",
   "mimetype": "text/x-python",
   "name": "python",
   "nbconvert_exporter": "python",
   "pygments_lexer": "ipython3",
   "version": "3.11.1"
  },
  "orig_nbformat": 4
 },
 "nbformat": 4,
 "nbformat_minor": 2
}
