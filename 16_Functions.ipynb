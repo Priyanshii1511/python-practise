{
 "cells": [
  {
   "cell_type": "markdown",
   "metadata": {},
   "source": [
    "Naming functions in Python must adhere to the same guidelines as naming variables."
   ]
  },
  {
   "cell_type": "markdown",
   "metadata": {},
   "source": [
    "A parameter is the variable listed inside the parentheses in the function definition. An argument is the value that are sent to the function when it is called."
   ]
  },
  {
   "cell_type": "code",
   "execution_count": 3,
   "metadata": {},
   "outputs": [
    {
     "name": "stdout",
     "output_type": "stream",
     "text": [
      "25\n",
      "this function computes square of a number\n"
     ]
    }
   ],
   "source": [
    "def square(n): #function definiton\n",
    "    '''this function computes square of a number'''\n",
    "    return n*n\n",
    "print(square(5)) #function calling\n",
    "print(square.__doc__) #docstring about the function"
   ]
  },
  {
   "cell_type": "markdown",
   "metadata": {},
   "source": [
    "In the Python programming language, all parameters are passed by reference i.e., any changes made inside the function are actually reflected in the actual parameters of the caller."
   ]
  },
  {
   "cell_type": "code",
   "execution_count": 7,
   "metadata": {},
   "outputs": [
    {
     "name": "stdout",
     "output_type": "stream",
     "text": [
      "Squares of the list are:  [289, 361, 324]\n"
     ]
    }
   ],
   "source": [
    "def square( item_list ):       \n",
    "    squares = [ ]    \n",
    "    for l in item_list:    \n",
    "        squares.append( l**2 )    \n",
    "    return squares    \n",
    "    \n",
    "my_list = [17, 19, 18];    \n",
    "my_result = square( my_list )    \n",
    "print( \"Squares of the list are: \", my_result)    "
   ]
  },
  {
   "cell_type": "markdown",
   "metadata": {},
   "source": [
    "The following are the types of arguments that we can use to call a function: 1. Default arguments, 2. Keyword arguments, 3. Required arguments, 4. Variable-length arguments."
   ]
  },
  {
   "cell_type": "code",
   "execution_count": 8,
   "metadata": {},
   "outputs": [
    {
     "name": "stdout",
     "output_type": "stream",
     "text": [
      "number 1 is:  30\n",
      "number 2 is:  20\n",
      "number 1 is:  50\n",
      "number 2 is:  30\n"
     ]
    }
   ],
   "source": [
    "#default arguments\n",
    "def function( n1, n2 = 20 ): #n2 is default if no argument is passed then 20 is printed  \n",
    "    print(\"number 1 is: \", n1)    \n",
    "    print(\"number 2 is: \", n2)           \n",
    "function(30) #passing 1 argument so n2 will be 20 only \n",
    "function(50,30) #2nd argument will be the passed value now"
   ]
  },
  {
   "cell_type": "code",
   "execution_count": 14,
   "metadata": {},
   "outputs": [
    {
     "name": "stdout",
     "output_type": "stream",
     "text": [
      "number 1 is:  50\n",
      "number 2 is:  30\n",
      "number 1 is:  30\n",
      "number 2 is:  50\n",
      "Function needs two positional arguments!\n"
     ]
    }
   ],
   "source": [
    "#keyword arguments and required arguments\n",
    "def function(n1, n2):    \n",
    "    print(\"number 1 is: \", n1)    \n",
    "    print(\"number 2 is: \", n2)      \n",
    "function(50, 30) #in without keyword arguments first argument will be passed as first parameter     \n",
    "function(n2=50, n1=30) #in keyword arguments we have specified the arguments to be passed\n",
    "try:    \n",
    "    function(30) #but function needs two arguments so we cannot pass one or error will be shown\n",
    "except:    \n",
    "    print(\"Function needs two positional arguments!\")  "
   ]
  },
  {
   "cell_type": "markdown",
   "metadata": {},
   "source": [
    "\"args\" and \"kwargs\" are used to pass variable length arguments to a function."
   ]
  },
  {
   "cell_type": "code",
   "execution_count": 16,
   "metadata": {},
   "outputs": [
    {
     "name": "stdout",
     "output_type": "stream",
     "text": [
      "['PYTHON', 'FUNCTIONS']\n"
     ]
    }
   ],
   "source": [
    "#variable length arguments (varargs)\n",
    "#args are Non keyword Arguments\n",
    "def function(*args_list):    \n",
    "    ans=[]    \n",
    "    for l in args_list:    \n",
    "        ans.append(l.upper())    \n",
    "    return ans       \n",
    "p=function('Python', 'Functions') #any number of arguments can be passed\n",
    "print(p)"
   ]
  },
  {
   "cell_type": "code",
   "execution_count": 20,
   "metadata": {},
   "outputs": [
    {
     "name": "stdout",
     "output_type": "stream",
     "text": [
      "first == not last\n",
      "second == not first\n"
     ]
    }
   ],
   "source": [
    "#kwargs are Keyword Arguments\n",
    "def func(**kwargs_lis):\n",
    "    ans=[]\n",
    "    for i, j in kwargs_lis.items(): #i and j are key and value pairs\n",
    "        #items() method is used to return the list with all dictionary keys with values.\n",
    "        print(\"%s == %s\"%(i, j))\n",
    "res=func(first=\"not last\", second=\"not first\")"
   ]
  },
  {
   "cell_type": "code",
   "execution_count": 23,
   "metadata": {},
   "outputs": [
    {
     "name": "stdout",
     "output_type": "stream",
     "text": [
      "None\n"
     ]
    }
   ],
   "source": [
    "def square( num ):    \n",
    "    num**2      \n",
    "print(square(52)) #without any return statement none will be returned"
   ]
  },
  {
   "cell_type": "markdown",
   "metadata": {},
   "source": [
    "A variable's scope refers to the program's domain wherever it is declared. The length of time a variable remains in RAM is its lifespan or lifetime. The lifespan of a function is the same as the lifespan of its internal variables. When we exit the function, they are taken away from us."
   ]
  },
  {
   "cell_type": "code",
   "execution_count": 2,
   "metadata": {},
   "outputs": [
    {
     "name": "stdout",
     "output_type": "stream",
     "text": [
      "Inside function: 10\n",
      "Outside function: 20\n"
     ]
    }
   ],
   "source": [
    "def number():\n",
    "    num=10 #lifetime of this variable is only within the function\n",
    "    print(\"Inside function:\", num)\n",
    "num=20\n",
    "number()\n",
    "print(\"Outside function:\", num) #value of variable outside function remains unchanged\n",
    "#both variables have same name but they are different"
   ]
  },
  {
   "cell_type": "markdown",
   "metadata": {},
   "source": [
    "First-class objects (first class functions) are treated the same everywhere they are used. They can be stored in built-in data structures, used as arguments, and in conditional expressions."
   ]
  },
  {
   "cell_type": "markdown",
   "metadata": {},
   "source": [
    "A function defined within another is called an \"inner\" or \"nested\" function. The parameters of the outer scope are accessible to inner functions. "
   ]
  },
  {
   "cell_type": "code",
   "execution_count": 10,
   "metadata": {},
   "outputs": [
    {
     "name": "stdout",
     "output_type": "stream",
     "text": [
      "this is outer function\n",
      "5\n"
     ]
    }
   ],
   "source": [
    "#Function inside another function\n",
    "def fun1():\n",
    "    s1=\"this is outer function\"\n",
    "    x=5\n",
    "    def fun2():\n",
    "        print(s1)\n",
    "        print(x)\n",
    "    fun2()\n",
    "fun1()"
   ]
  }
 ],
 "metadata": {
  "kernelspec": {
   "display_name": "Python 3",
   "language": "python",
   "name": "python3"
  },
  "language_info": {
   "codemirror_mode": {
    "name": "ipython",
    "version": 3
   },
   "file_extension": ".py",
   "mimetype": "text/x-python",
   "name": "python",
   "nbconvert_exporter": "python",
   "pygments_lexer": "ipython3",
   "version": "3.11.1"
  },
  "orig_nbformat": 4
 },
 "nbformat": 4,
 "nbformat_minor": 2
}
